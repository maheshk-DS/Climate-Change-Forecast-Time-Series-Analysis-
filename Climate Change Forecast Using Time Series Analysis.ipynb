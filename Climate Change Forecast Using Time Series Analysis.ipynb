{
 "cells": [
  {
   "cell_type": "code",
   "execution_count": 1,
   "metadata": {},
   "outputs": [],
   "source": [
    "import pandas as pd\n",
    "from datetime import datetime,timedelta\n",
    "import numpy as np\n",
    "import matplotlib.pylab as plt\n",
    "from statsmodels.tsa.seasonal import seasonal_decompose\n",
    "import seaborn as sns\n",
    "%matplotlib inline\n",
    "import warnings\n",
    "warnings.filterwarnings('ignore')"
   ]
  },
  {
   "cell_type": "code",
   "execution_count": 2,
   "metadata": {},
   "outputs": [],
   "source": [
    "#https://www.kaggle.com/berkeleyearth/climate-change-earth-surface-temperature-data?select=GlobalLandTemperaturesByState.csv"
   ]
  },
  {
   "cell_type": "code",
   "execution_count": 3,
   "metadata": {},
   "outputs": [],
   "source": [
    "dateparse = lambda dates: datetime.strptime(dates, '%Y-%m-%d')"
   ]
  },
  {
   "cell_type": "code",
   "execution_count": 4,
   "metadata": {},
   "outputs": [
    {
     "data": {
      "text/html": [
       "<div>\n",
       "<style scoped>\n",
       "    .dataframe tbody tr th:only-of-type {\n",
       "        vertical-align: middle;\n",
       "    }\n",
       "\n",
       "    .dataframe tbody tr th {\n",
       "        vertical-align: top;\n",
       "    }\n",
       "\n",
       "    .dataframe thead th {\n",
       "        text-align: right;\n",
       "    }\n",
       "</style>\n",
       "<table border=\"1\" class=\"dataframe\">\n",
       "  <thead>\n",
       "    <tr style=\"text-align: right;\">\n",
       "      <th></th>\n",
       "      <th>AverageTemperature</th>\n",
       "      <th>AverageTemperatureUncertainty</th>\n",
       "      <th>State</th>\n",
       "      <th>Country</th>\n",
       "    </tr>\n",
       "    <tr>\n",
       "      <th>dt</th>\n",
       "      <th></th>\n",
       "      <th></th>\n",
       "      <th></th>\n",
       "      <th></th>\n",
       "    </tr>\n",
       "  </thead>\n",
       "  <tbody>\n",
       "    <tr>\n",
       "      <th>1855-05-01</th>\n",
       "      <td>25.544</td>\n",
       "      <td>1.171</td>\n",
       "      <td>Acre</td>\n",
       "      <td>Brazil</td>\n",
       "    </tr>\n",
       "    <tr>\n",
       "      <th>1855-06-01</th>\n",
       "      <td>24.228</td>\n",
       "      <td>1.103</td>\n",
       "      <td>Acre</td>\n",
       "      <td>Brazil</td>\n",
       "    </tr>\n",
       "    <tr>\n",
       "      <th>1855-07-01</th>\n",
       "      <td>24.371</td>\n",
       "      <td>1.044</td>\n",
       "      <td>Acre</td>\n",
       "      <td>Brazil</td>\n",
       "    </tr>\n",
       "    <tr>\n",
       "      <th>1855-08-01</th>\n",
       "      <td>25.427</td>\n",
       "      <td>1.073</td>\n",
       "      <td>Acre</td>\n",
       "      <td>Brazil</td>\n",
       "    </tr>\n",
       "    <tr>\n",
       "      <th>1855-09-01</th>\n",
       "      <td>25.675</td>\n",
       "      <td>1.014</td>\n",
       "      <td>Acre</td>\n",
       "      <td>Brazil</td>\n",
       "    </tr>\n",
       "  </tbody>\n",
       "</table>\n",
       "</div>"
      ],
      "text/plain": [
       "            AverageTemperature  AverageTemperatureUncertainty State Country\n",
       "dt                                                                         \n",
       "1855-05-01              25.544                          1.171  Acre  Brazil\n",
       "1855-06-01              24.228                          1.103  Acre  Brazil\n",
       "1855-07-01              24.371                          1.044  Acre  Brazil\n",
       "1855-08-01              25.427                          1.073  Acre  Brazil\n",
       "1855-09-01              25.675                          1.014  Acre  Brazil"
      ]
     },
     "execution_count": 4,
     "metadata": {},
     "output_type": "execute_result"
    }
   ],
   "source": [
    "df = pd.read_csv(\"GlobalLandTemperaturesByState.csv\", infer_datetime_format=True,index_col='dt', parse_dates=['dt'],date_parser=dateparse)\n",
    "df.head()"
   ]
  },
  {
   "cell_type": "raw",
   "metadata": {},
   "source": [
    "df = pd.read_csv(\"GlobalLandTemperaturesByState.csv\")\n",
    "df.head()"
   ]
  },
  {
   "cell_type": "code",
   "execution_count": 5,
   "metadata": {},
   "outputs": [
    {
     "data": {
      "text/plain": [
       "AverageTemperature               float64\n",
       "AverageTemperatureUncertainty    float64\n",
       "State                             object\n",
       "Country                           object\n",
       "dtype: object"
      ]
     },
     "execution_count": 5,
     "metadata": {},
     "output_type": "execute_result"
    }
   ],
   "source": [
    "df.dtypes"
   ]
  },
  {
   "cell_type": "code",
   "execution_count": 6,
   "metadata": {},
   "outputs": [
    {
     "data": {
      "text/plain": [
       "(645675, 4)"
      ]
     },
     "execution_count": 6,
     "metadata": {},
     "output_type": "execute_result"
    }
   ],
   "source": [
    "df.shape"
   ]
  },
  {
   "cell_type": "code",
   "execution_count": 7,
   "metadata": {},
   "outputs": [
    {
     "data": {
      "text/plain": [
       "AverageTemperature               3.972277\n",
       "AverageTemperatureUncertainty    3.972277\n",
       "State                            0.000000\n",
       "Country                          0.000000\n",
       "dtype: float64"
      ]
     },
     "execution_count": 7,
     "metadata": {},
     "output_type": "execute_result"
    }
   ],
   "source": [
    "df.isnull().mean()*100"
   ]
  },
  {
   "cell_type": "code",
   "execution_count": 8,
   "metadata": {},
   "outputs": [
    {
     "data": {
      "text/plain": [
       "(620027, 4)"
      ]
     },
     "execution_count": 8,
     "metadata": {},
     "output_type": "execute_result"
    }
   ],
   "source": [
    "#Droping all null values\n",
    "df = df.dropna(how='any' ,axis=0)\n",
    "df.shape"
   ]
  },
  {
   "cell_type": "code",
   "execution_count": 9,
   "metadata": {},
   "outputs": [],
   "source": [
    "#rename col to understand better\n",
    "df.rename(columns={'AverageTemperatureUncertainty': 'confidence_interval_temp'},inplace=True)"
   ]
  },
  {
   "cell_type": "code",
   "execution_count": 10,
   "metadata": {},
   "outputs": [
    {
     "data": {
      "text/html": [
       "<div>\n",
       "<style scoped>\n",
       "    .dataframe tbody tr th:only-of-type {\n",
       "        vertical-align: middle;\n",
       "    }\n",
       "\n",
       "    .dataframe tbody tr th {\n",
       "        vertical-align: top;\n",
       "    }\n",
       "\n",
       "    .dataframe thead th {\n",
       "        text-align: right;\n",
       "    }\n",
       "</style>\n",
       "<table border=\"1\" class=\"dataframe\">\n",
       "  <thead>\n",
       "    <tr style=\"text-align: right;\">\n",
       "      <th></th>\n",
       "      <th>AverageTemperature</th>\n",
       "      <th>confidence_interval_temp</th>\n",
       "      <th>State</th>\n",
       "      <th>Country</th>\n",
       "    </tr>\n",
       "    <tr>\n",
       "      <th>dt</th>\n",
       "      <th></th>\n",
       "      <th></th>\n",
       "      <th></th>\n",
       "      <th></th>\n",
       "    </tr>\n",
       "  </thead>\n",
       "  <tbody>\n",
       "    <tr>\n",
       "      <th>1855-05-01</th>\n",
       "      <td>25.544</td>\n",
       "      <td>1.171</td>\n",
       "      <td>Acre</td>\n",
       "      <td>Brazil</td>\n",
       "    </tr>\n",
       "    <tr>\n",
       "      <th>1855-06-01</th>\n",
       "      <td>24.228</td>\n",
       "      <td>1.103</td>\n",
       "      <td>Acre</td>\n",
       "      <td>Brazil</td>\n",
       "    </tr>\n",
       "    <tr>\n",
       "      <th>1855-07-01</th>\n",
       "      <td>24.371</td>\n",
       "      <td>1.044</td>\n",
       "      <td>Acre</td>\n",
       "      <td>Brazil</td>\n",
       "    </tr>\n",
       "    <tr>\n",
       "      <th>1855-08-01</th>\n",
       "      <td>25.427</td>\n",
       "      <td>1.073</td>\n",
       "      <td>Acre</td>\n",
       "      <td>Brazil</td>\n",
       "    </tr>\n",
       "    <tr>\n",
       "      <th>1855-09-01</th>\n",
       "      <td>25.675</td>\n",
       "      <td>1.014</td>\n",
       "      <td>Acre</td>\n",
       "      <td>Brazil</td>\n",
       "    </tr>\n",
       "  </tbody>\n",
       "</table>\n",
       "</div>"
      ],
      "text/plain": [
       "            AverageTemperature  confidence_interval_temp State Country\n",
       "dt                                                                    \n",
       "1855-05-01              25.544                     1.171  Acre  Brazil\n",
       "1855-06-01              24.228                     1.103  Acre  Brazil\n",
       "1855-07-01              24.371                     1.044  Acre  Brazil\n",
       "1855-08-01              25.427                     1.073  Acre  Brazil\n",
       "1855-09-01              25.675                     1.014  Acre  Brazil"
      ]
     },
     "execution_count": 10,
     "metadata": {},
     "output_type": "execute_result"
    }
   ],
   "source": [
    "df.head()"
   ]
  },
  {
   "cell_type": "raw",
   "metadata": {},
   "source": [
    "#Converting 'Date column' into 'Datetime datatype'\n",
    "df['Date'] = pd.to_datetime(df['Date'])\n",
    "df.set_index('Date',inplace = True)\n",
    "df.index"
   ]
  },
  {
   "cell_type": "code",
   "execution_count": 11,
   "metadata": {},
   "outputs": [
    {
     "name": "stdout",
     "output_type": "stream",
     "text": [
      "<class 'pandas.core.frame.DataFrame'>\n",
      "DatetimeIndex: 620027 entries, 1855-05-01 to 2013-08-01\n",
      "Data columns (total 4 columns):\n",
      " #   Column                    Non-Null Count   Dtype  \n",
      "---  ------                    --------------   -----  \n",
      " 0   AverageTemperature        620027 non-null  float64\n",
      " 1   confidence_interval_temp  620027 non-null  float64\n",
      " 2   State                     620027 non-null  object \n",
      " 3   Country                   620027 non-null  object \n",
      "dtypes: float64(2), object(2)\n",
      "memory usage: 23.7+ MB\n"
     ]
    }
   ],
   "source": [
    "df.info()"
   ]
  },
  {
   "cell_type": "code",
   "execution_count": 12,
   "metadata": {},
   "outputs": [
    {
     "data": {
      "text/html": [
       "<div>\n",
       "<style scoped>\n",
       "    .dataframe tbody tr th:only-of-type {\n",
       "        vertical-align: middle;\n",
       "    }\n",
       "\n",
       "    .dataframe tbody tr th {\n",
       "        vertical-align: top;\n",
       "    }\n",
       "\n",
       "    .dataframe thead th {\n",
       "        text-align: right;\n",
       "    }\n",
       "</style>\n",
       "<table border=\"1\" class=\"dataframe\">\n",
       "  <thead>\n",
       "    <tr style=\"text-align: right;\">\n",
       "      <th></th>\n",
       "      <th>AverageTemperature</th>\n",
       "      <th>confidence_interval_temp</th>\n",
       "    </tr>\n",
       "  </thead>\n",
       "  <tbody>\n",
       "    <tr>\n",
       "      <th>count</th>\n",
       "      <td>620027.000000</td>\n",
       "      <td>620027.000000</td>\n",
       "    </tr>\n",
       "    <tr>\n",
       "      <th>mean</th>\n",
       "      <td>8.993111</td>\n",
       "      <td>1.287647</td>\n",
       "    </tr>\n",
       "    <tr>\n",
       "      <th>std</th>\n",
       "      <td>13.772150</td>\n",
       "      <td>1.360392</td>\n",
       "    </tr>\n",
       "    <tr>\n",
       "      <th>min</th>\n",
       "      <td>-45.389000</td>\n",
       "      <td>0.036000</td>\n",
       "    </tr>\n",
       "    <tr>\n",
       "      <th>25%</th>\n",
       "      <td>-0.693000</td>\n",
       "      <td>0.316000</td>\n",
       "    </tr>\n",
       "    <tr>\n",
       "      <th>50%</th>\n",
       "      <td>11.199000</td>\n",
       "      <td>0.656000</td>\n",
       "    </tr>\n",
       "    <tr>\n",
       "      <th>75%</th>\n",
       "      <td>19.899000</td>\n",
       "      <td>1.850000</td>\n",
       "    </tr>\n",
       "    <tr>\n",
       "      <th>max</th>\n",
       "      <td>36.339000</td>\n",
       "      <td>12.646000</td>\n",
       "    </tr>\n",
       "  </tbody>\n",
       "</table>\n",
       "</div>"
      ],
      "text/plain": [
       "       AverageTemperature  confidence_interval_temp\n",
       "count       620027.000000             620027.000000\n",
       "mean             8.993111                  1.287647\n",
       "std             13.772150                  1.360392\n",
       "min            -45.389000                  0.036000\n",
       "25%             -0.693000                  0.316000\n",
       "50%             11.199000                  0.656000\n",
       "75%             19.899000                  1.850000\n",
       "max             36.339000                 12.646000"
      ]
     },
     "execution_count": 12,
     "metadata": {},
     "output_type": "execute_result"
    }
   ],
   "source": [
    "df.describe()"
   ]
  },
  {
   "cell_type": "code",
   "execution_count": 13,
   "metadata": {},
   "outputs": [
    {
     "data": {
      "text/html": [
       "<div>\n",
       "<style scoped>\n",
       "    .dataframe tbody tr th:only-of-type {\n",
       "        vertical-align: middle;\n",
       "    }\n",
       "\n",
       "    .dataframe tbody tr th {\n",
       "        vertical-align: top;\n",
       "    }\n",
       "\n",
       "    .dataframe thead th {\n",
       "        text-align: right;\n",
       "    }\n",
       "</style>\n",
       "<table border=\"1\" class=\"dataframe\">\n",
       "  <thead>\n",
       "    <tr style=\"text-align: right;\">\n",
       "      <th></th>\n",
       "      <th>AverageTemperature</th>\n",
       "      <th>confidence_interval_temp</th>\n",
       "      <th>State</th>\n",
       "      <th>Country</th>\n",
       "      <th>year</th>\n",
       "    </tr>\n",
       "    <tr>\n",
       "      <th>dt</th>\n",
       "      <th></th>\n",
       "      <th></th>\n",
       "      <th></th>\n",
       "      <th></th>\n",
       "      <th></th>\n",
       "    </tr>\n",
       "  </thead>\n",
       "  <tbody>\n",
       "    <tr>\n",
       "      <th>1855-05-01</th>\n",
       "      <td>25.544</td>\n",
       "      <td>1.171</td>\n",
       "      <td>Acre</td>\n",
       "      <td>Brazil</td>\n",
       "      <td>1855</td>\n",
       "    </tr>\n",
       "    <tr>\n",
       "      <th>1855-06-01</th>\n",
       "      <td>24.228</td>\n",
       "      <td>1.103</td>\n",
       "      <td>Acre</td>\n",
       "      <td>Brazil</td>\n",
       "      <td>1855</td>\n",
       "    </tr>\n",
       "    <tr>\n",
       "      <th>1855-07-01</th>\n",
       "      <td>24.371</td>\n",
       "      <td>1.044</td>\n",
       "      <td>Acre</td>\n",
       "      <td>Brazil</td>\n",
       "      <td>1855</td>\n",
       "    </tr>\n",
       "    <tr>\n",
       "      <th>1855-08-01</th>\n",
       "      <td>25.427</td>\n",
       "      <td>1.073</td>\n",
       "      <td>Acre</td>\n",
       "      <td>Brazil</td>\n",
       "      <td>1855</td>\n",
       "    </tr>\n",
       "    <tr>\n",
       "      <th>1855-09-01</th>\n",
       "      <td>25.675</td>\n",
       "      <td>1.014</td>\n",
       "      <td>Acre</td>\n",
       "      <td>Brazil</td>\n",
       "      <td>1855</td>\n",
       "    </tr>\n",
       "  </tbody>\n",
       "</table>\n",
       "</div>"
      ],
      "text/plain": [
       "            AverageTemperature  confidence_interval_temp State Country  year\n",
       "dt                                                                          \n",
       "1855-05-01              25.544                     1.171  Acre  Brazil  1855\n",
       "1855-06-01              24.228                     1.103  Acre  Brazil  1855\n",
       "1855-07-01              24.371                     1.044  Acre  Brazil  1855\n",
       "1855-08-01              25.427                     1.073  Acre  Brazil  1855\n",
       "1855-09-01              25.675                     1.014  Acre  Brazil  1855"
      ]
     },
     "execution_count": 13,
     "metadata": {},
     "output_type": "execute_result"
    }
   ],
   "source": [
    "#Now we use year as index\n",
    "df['year']= df.index.year\n",
    "df.head()"
   ]
  },
  {
   "cell_type": "code",
   "execution_count": 14,
   "metadata": {},
   "outputs": [
    {
     "data": {
      "text/html": [
       "<div>\n",
       "<style scoped>\n",
       "    .dataframe tbody tr th:only-of-type {\n",
       "        vertical-align: middle;\n",
       "    }\n",
       "\n",
       "    .dataframe tbody tr th {\n",
       "        vertical-align: top;\n",
       "    }\n",
       "\n",
       "    .dataframe thead th {\n",
       "        text-align: right;\n",
       "    }\n",
       "</style>\n",
       "<table border=\"1\" class=\"dataframe\">\n",
       "  <thead>\n",
       "    <tr style=\"text-align: right;\">\n",
       "      <th></th>\n",
       "      <th>AverageTemperature</th>\n",
       "      <th>confidence_interval_temp</th>\n",
       "      <th>State</th>\n",
       "      <th>Country</th>\n",
       "      <th>year</th>\n",
       "    </tr>\n",
       "    <tr>\n",
       "      <th>dt</th>\n",
       "      <th></th>\n",
       "      <th></th>\n",
       "      <th></th>\n",
       "      <th></th>\n",
       "      <th></th>\n",
       "    </tr>\n",
       "  </thead>\n",
       "  <tbody>\n",
       "    <tr>\n",
       "      <th>2013-04-01</th>\n",
       "      <td>15.710</td>\n",
       "      <td>0.461</td>\n",
       "      <td>Zhejiang</td>\n",
       "      <td>China</td>\n",
       "      <td>2013</td>\n",
       "    </tr>\n",
       "    <tr>\n",
       "      <th>2013-05-01</th>\n",
       "      <td>21.634</td>\n",
       "      <td>0.578</td>\n",
       "      <td>Zhejiang</td>\n",
       "      <td>China</td>\n",
       "      <td>2013</td>\n",
       "    </tr>\n",
       "    <tr>\n",
       "      <th>2013-06-01</th>\n",
       "      <td>24.679</td>\n",
       "      <td>0.596</td>\n",
       "      <td>Zhejiang</td>\n",
       "      <td>China</td>\n",
       "      <td>2013</td>\n",
       "    </tr>\n",
       "    <tr>\n",
       "      <th>2013-07-01</th>\n",
       "      <td>29.272</td>\n",
       "      <td>1.340</td>\n",
       "      <td>Zhejiang</td>\n",
       "      <td>China</td>\n",
       "      <td>2013</td>\n",
       "    </tr>\n",
       "    <tr>\n",
       "      <th>2013-08-01</th>\n",
       "      <td>29.202</td>\n",
       "      <td>0.869</td>\n",
       "      <td>Zhejiang</td>\n",
       "      <td>China</td>\n",
       "      <td>2013</td>\n",
       "    </tr>\n",
       "  </tbody>\n",
       "</table>\n",
       "</div>"
      ],
      "text/plain": [
       "            AverageTemperature  confidence_interval_temp     State Country  \\\n",
       "dt                                                                           \n",
       "2013-04-01              15.710                     0.461  Zhejiang   China   \n",
       "2013-05-01              21.634                     0.578  Zhejiang   China   \n",
       "2013-06-01              24.679                     0.596  Zhejiang   China   \n",
       "2013-07-01              29.272                     1.340  Zhejiang   China   \n",
       "2013-08-01              29.202                     0.869  Zhejiang   China   \n",
       "\n",
       "            year  \n",
       "dt                \n",
       "2013-04-01  2013  \n",
       "2013-05-01  2013  \n",
       "2013-06-01  2013  \n",
       "2013-07-01  2013  \n",
       "2013-08-01  2013  "
      ]
     },
     "execution_count": 14,
     "metadata": {},
     "output_type": "execute_result"
    }
   ],
   "source": [
    "df.tail()"
   ]
  },
  {
   "cell_type": "code",
   "execution_count": 15,
   "metadata": {},
   "outputs": [
    {
     "data": {
      "text/html": [
       "<div>\n",
       "<style scoped>\n",
       "    .dataframe tbody tr th:only-of-type {\n",
       "        vertical-align: middle;\n",
       "    }\n",
       "\n",
       "    .dataframe tbody tr th {\n",
       "        vertical-align: top;\n",
       "    }\n",
       "\n",
       "    .dataframe thead th {\n",
       "        text-align: right;\n",
       "    }\n",
       "</style>\n",
       "<table border=\"1\" class=\"dataframe\">\n",
       "  <thead>\n",
       "    <tr style=\"text-align: right;\">\n",
       "      <th></th>\n",
       "      <th>AverageTemperature</th>\n",
       "      <th>confidence_interval_temp</th>\n",
       "      <th>year</th>\n",
       "    </tr>\n",
       "  </thead>\n",
       "  <tbody>\n",
       "    <tr>\n",
       "      <th>count</th>\n",
       "      <td>620027.000000</td>\n",
       "      <td>620027.000000</td>\n",
       "      <td>620027.000000</td>\n",
       "    </tr>\n",
       "    <tr>\n",
       "      <th>mean</th>\n",
       "      <td>8.993111</td>\n",
       "      <td>1.287647</td>\n",
       "      <td>1902.331598</td>\n",
       "    </tr>\n",
       "    <tr>\n",
       "      <th>std</th>\n",
       "      <td>13.772150</td>\n",
       "      <td>1.360392</td>\n",
       "      <td>67.831393</td>\n",
       "    </tr>\n",
       "    <tr>\n",
       "      <th>min</th>\n",
       "      <td>-45.389000</td>\n",
       "      <td>0.036000</td>\n",
       "      <td>1743.000000</td>\n",
       "    </tr>\n",
       "    <tr>\n",
       "      <th>25%</th>\n",
       "      <td>-0.693000</td>\n",
       "      <td>0.316000</td>\n",
       "      <td>1851.000000</td>\n",
       "    </tr>\n",
       "    <tr>\n",
       "      <th>50%</th>\n",
       "      <td>11.199000</td>\n",
       "      <td>0.656000</td>\n",
       "      <td>1906.000000</td>\n",
       "    </tr>\n",
       "    <tr>\n",
       "      <th>75%</th>\n",
       "      <td>19.899000</td>\n",
       "      <td>1.850000</td>\n",
       "      <td>1960.000000</td>\n",
       "    </tr>\n",
       "    <tr>\n",
       "      <th>max</th>\n",
       "      <td>36.339000</td>\n",
       "      <td>12.646000</td>\n",
       "      <td>2013.000000</td>\n",
       "    </tr>\n",
       "  </tbody>\n",
       "</table>\n",
       "</div>"
      ],
      "text/plain": [
       "       AverageTemperature  confidence_interval_temp           year\n",
       "count       620027.000000             620027.000000  620027.000000\n",
       "mean             8.993111                  1.287647    1902.331598\n",
       "std             13.772150                  1.360392      67.831393\n",
       "min            -45.389000                  0.036000    1743.000000\n",
       "25%             -0.693000                  0.316000    1851.000000\n",
       "50%             11.199000                  0.656000    1906.000000\n",
       "75%             19.899000                  1.850000    1960.000000\n",
       "max             36.339000                 12.646000    2013.000000"
      ]
     },
     "execution_count": 15,
     "metadata": {},
     "output_type": "execute_result"
    }
   ],
   "source": [
    "df.describe()"
   ]
  },
  {
   "cell_type": "code",
   "execution_count": 16,
   "metadata": {},
   "outputs": [
    {
     "data": {
      "text/html": [
       "<div>\n",
       "<style scoped>\n",
       "    .dataframe tbody tr th:only-of-type {\n",
       "        vertical-align: middle;\n",
       "    }\n",
       "\n",
       "    .dataframe tbody tr th {\n",
       "        vertical-align: top;\n",
       "    }\n",
       "\n",
       "    .dataframe thead th {\n",
       "        text-align: right;\n",
       "    }\n",
       "</style>\n",
       "<table border=\"1\" class=\"dataframe\">\n",
       "  <thead>\n",
       "    <tr style=\"text-align: right;\">\n",
       "      <th></th>\n",
       "      <th>AverageTemperature</th>\n",
       "      <th>confidence_interval_temp</th>\n",
       "      <th>State</th>\n",
       "      <th>Country</th>\n",
       "      <th>year</th>\n",
       "    </tr>\n",
       "    <tr>\n",
       "      <th>dt</th>\n",
       "      <th></th>\n",
       "      <th></th>\n",
       "      <th></th>\n",
       "      <th></th>\n",
       "      <th></th>\n",
       "    </tr>\n",
       "  </thead>\n",
       "  <tbody>\n",
       "    <tr>\n",
       "      <th>1980-01-01</th>\n",
       "      <td>26.652</td>\n",
       "      <td>0.190</td>\n",
       "      <td>Acre</td>\n",
       "      <td>Brazil</td>\n",
       "      <td>1980</td>\n",
       "    </tr>\n",
       "    <tr>\n",
       "      <th>1980-02-01</th>\n",
       "      <td>26.495</td>\n",
       "      <td>0.495</td>\n",
       "      <td>Acre</td>\n",
       "      <td>Brazil</td>\n",
       "      <td>1980</td>\n",
       "    </tr>\n",
       "    <tr>\n",
       "      <th>1980-03-01</th>\n",
       "      <td>26.270</td>\n",
       "      <td>0.236</td>\n",
       "      <td>Acre</td>\n",
       "      <td>Brazil</td>\n",
       "      <td>1980</td>\n",
       "    </tr>\n",
       "    <tr>\n",
       "      <th>1980-04-01</th>\n",
       "      <td>26.430</td>\n",
       "      <td>0.201</td>\n",
       "      <td>Acre</td>\n",
       "      <td>Brazil</td>\n",
       "      <td>1980</td>\n",
       "    </tr>\n",
       "    <tr>\n",
       "      <th>1980-05-01</th>\n",
       "      <td>25.802</td>\n",
       "      <td>0.882</td>\n",
       "      <td>Acre</td>\n",
       "      <td>Brazil</td>\n",
       "      <td>1980</td>\n",
       "    </tr>\n",
       "  </tbody>\n",
       "</table>\n",
       "</div>"
      ],
      "text/plain": [
       "            AverageTemperature  confidence_interval_temp State Country  year\n",
       "dt                                                                          \n",
       "1980-01-01              26.652                     0.190  Acre  Brazil  1980\n",
       "1980-02-01              26.495                     0.495  Acre  Brazil  1980\n",
       "1980-03-01              26.270                     0.236  Acre  Brazil  1980\n",
       "1980-04-01              26.430                     0.201  Acre  Brazil  1980\n",
       "1980-05-01              25.802                     0.882  Acre  Brazil  1980"
      ]
     },
     "execution_count": 16,
     "metadata": {},
     "output_type": "execute_result"
    }
   ],
   "source": [
    "#Now we use latest data\n",
    "latest_df = df.loc['1980':'2013']\n",
    "latest_df.head()"
   ]
  },
  {
   "cell_type": "code",
   "execution_count": 17,
   "metadata": {},
   "outputs": [
    {
     "data": {
      "text/html": [
       "<div>\n",
       "<style scoped>\n",
       "    .dataframe tbody tr th:only-of-type {\n",
       "        vertical-align: middle;\n",
       "    }\n",
       "\n",
       "    .dataframe tbody tr th {\n",
       "        vertical-align: top;\n",
       "    }\n",
       "\n",
       "    .dataframe thead th {\n",
       "        text-align: right;\n",
       "    }\n",
       "</style>\n",
       "<table border=\"1\" class=\"dataframe\">\n",
       "  <thead>\n",
       "    <tr style=\"text-align: right;\">\n",
       "      <th></th>\n",
       "      <th>AverageTemperature</th>\n",
       "    </tr>\n",
       "    <tr>\n",
       "      <th>Country</th>\n",
       "      <th></th>\n",
       "    </tr>\n",
       "  </thead>\n",
       "  <tbody>\n",
       "    <tr>\n",
       "      <th>Canada</th>\n",
       "      <td>-0.681256</td>\n",
       "    </tr>\n",
       "    <tr>\n",
       "      <th>Russia</th>\n",
       "      <td>2.432833</td>\n",
       "    </tr>\n",
       "    <tr>\n",
       "      <th>United States</th>\n",
       "      <td>11.516373</td>\n",
       "    </tr>\n",
       "    <tr>\n",
       "      <th>China</th>\n",
       "      <td>12.150210</td>\n",
       "    </tr>\n",
       "    <tr>\n",
       "      <th>Australia</th>\n",
       "      <td>18.447621</td>\n",
       "    </tr>\n",
       "    <tr>\n",
       "      <th>India</th>\n",
       "      <td>22.871669</td>\n",
       "    </tr>\n",
       "    <tr>\n",
       "      <th>Brazil</th>\n",
       "      <td>24.537580</td>\n",
       "    </tr>\n",
       "  </tbody>\n",
       "</table>\n",
       "</div>"
      ],
      "text/plain": [
       "               AverageTemperature\n",
       "Country                          \n",
       "Canada                  -0.681256\n",
       "Russia                   2.432833\n",
       "United States           11.516373\n",
       "China                   12.150210\n",
       "Australia               18.447621\n",
       "India                   22.871669\n",
       "Brazil                  24.537580"
      ]
     },
     "execution_count": 17,
     "metadata": {},
     "output_type": "execute_result"
    }
   ],
   "source": [
    "#Grouping available data based on average temperature\n",
    "latest_df[['Country','AverageTemperature']].groupby(['Country']).mean().sort_values('AverageTemperature')"
   ]
  },
  {
   "cell_type": "code",
   "execution_count": 18,
   "metadata": {},
   "outputs": [
    {
     "data": {
      "image/png": "[encoded data removed]",
      "text/plain": [
       "<Figure size 648x288 with 1 Axes>"
      ]
     },
     "metadata": {
      "needs_background": "light"
     },
     "output_type": "display_data"
    }
   ],
   "source": [
    "#Plotting graph between year and average temperature\n",
    "plt.figure(figsize=(9,4))\n",
    "sns.lineplot(x = \"year\" , y = \"AverageTemperature\",data=latest_df)\n",
    "plt.show()"
   ]
  },
  {
   "cell_type": "code",
   "execution_count": 19,
   "metadata": {},
   "outputs": [
    {
     "data": {
      "text/plain": [
       "dt\n",
       "1980-12-31     9.689856\n",
       "1981-12-31    10.366578\n",
       "1982-12-31     9.837958\n",
       "1983-12-31    10.259516\n",
       "1984-12-31     9.724950\n",
       "Freq: A-DEC, Name: AverageTemperature, dtype: float64"
      ]
     },
     "execution_count": 19,
     "metadata": {},
     "output_type": "execute_result"
    }
   ],
   "source": [
    "resample_df = latest_df['AverageTemperature'].resample('A').mean()\n",
    "resample_df.head()"
   ]
  },
  {
   "cell_type": "code",
   "execution_count": 20,
   "metadata": {},
   "outputs": [
    {
     "data": {
      "text/plain": [
       "<matplotlib.legend.Legend at 0x2cfa0569970>"
      ]
     },
     "execution_count": 20,
     "metadata": {},
     "output_type": "execute_result"
    },
    {
     "data": {
      "image/png": "[encoded data removed]",
      "text/plain": [
       "<Figure size 576x360 with 1 Axes>"
      ]
     },
     "metadata": {
      "needs_background": "light"
     },
     "output_type": "display_data"
    }
   ],
   "source": [
    "resample_df.plot(title='Temperature changes from 1980 - 2013',figsize=(8,5))\n",
    "plt.ylabel('Temperature',fontsize=12)\n",
    "plt.xlabel('year',fontsize=12)\n",
    "plt.legend()"
   ]
  },
  {
   "cell_type": "code",
   "execution_count": 21,
   "metadata": {},
   "outputs": [
    {
     "data": {
      "text/plain": [
       "dt\n",
       "1980-12-31     9.689856\n",
       "1981-12-31    10.366578\n",
       "1982-12-31     9.837958\n",
       "1983-12-31    10.259516\n",
       "1984-12-31     9.724950\n",
       "Freq: A-DEC, Name: AverageTemperature, dtype: float64"
      ]
     },
     "execution_count": 21,
     "metadata": {},
     "output_type": "execute_result"
    }
   ],
   "source": [
    "resample_df.head()"
   ]
  },
  {
   "cell_type": "code",
   "execution_count": 22,
   "metadata": {},
   "outputs": [],
   "source": [
    "df1 = pd.DataFrame(resample_df)"
   ]
  },
  {
   "cell_type": "code",
   "execution_count": 23,
   "metadata": {},
   "outputs": [
    {
     "name": "stdout",
     "output_type": "stream",
     "text": [
      "<class 'pandas.core.frame.DataFrame'>\n",
      "DatetimeIndex: 34 entries, 1980-12-31 to 2013-12-31\n",
      "Freq: A-DEC\n",
      "Data columns (total 1 columns):\n",
      " #   Column              Non-Null Count  Dtype  \n",
      "---  ------              --------------  -----  \n",
      " 0   AverageTemperature  34 non-null     float64\n",
      "dtypes: float64(1)\n",
      "memory usage: 544.0 bytes\n"
     ]
    }
   ],
   "source": [
    "df1.info()"
   ]
  },
  {
   "cell_type": "code",
   "execution_count": 24,
   "metadata": {},
   "outputs": [],
   "source": [
    "#performing the log transformation using numpy\n",
    "log_df = np.log(resample_df)"
   ]
  },
  {
   "cell_type": "code",
   "execution_count": 25,
   "metadata": {},
   "outputs": [
    {
     "data": {
      "text/plain": [
       "dt\n",
       "1980-12-31    2.271080\n",
       "1981-12-31    2.338587\n",
       "1982-12-31    2.286248\n",
       "1983-12-31    2.328206\n",
       "1984-12-31    2.274695\n",
       "Freq: A-DEC, Name: AverageTemperature, dtype: float64"
      ]
     },
     "execution_count": 25,
     "metadata": {},
     "output_type": "execute_result"
    }
   ],
   "source": [
    "log_df.head()"
   ]
  },
  {
   "cell_type": "code",
   "execution_count": 26,
   "metadata": {},
   "outputs": [
    {
     "data": {
      "text/plain": [
       "0.2820516610642656"
      ]
     },
     "execution_count": 26,
     "metadata": {},
     "output_type": "execute_result"
    }
   ],
   "source": [
    "log_df.skew()"
   ]
  },
  {
   "cell_type": "code",
   "execution_count": null,
   "metadata": {},
   "outputs": [],
   "source": []
  },
  {
   "cell_type": "code",
   "execution_count": null,
   "metadata": {},
   "outputs": [],
   "source": []
  },
  {
   "cell_type": "code",
   "execution_count": null,
   "metadata": {},
   "outputs": [],
   "source": []
  },
  {
   "cell_type": "markdown",
   "metadata": {},
   "source": [
    "#### 27 years for train dataset & 7yrs for test data"
   ]
  },
  {
   "cell_type": "code",
   "execution_count": 27,
   "metadata": {},
   "outputs": [],
   "source": [
    "from scipy import stats\n",
    "from scipy.special import boxcox, inv_boxcox"
   ]
  },
  {
   "cell_type": "code",
   "execution_count": null,
   "metadata": {},
   "outputs": [],
   "source": []
  },
  {
   "cell_type": "code",
   "execution_count": null,
   "metadata": {},
   "outputs": [],
   "source": []
  },
  {
   "cell_type": "code",
   "execution_count": 28,
   "metadata": {},
   "outputs": [],
   "source": [
    "train_size = int(len(log_df) * 0.80)\n",
    "train, test = log_df[0:train_size], log_df[train_size:]"
   ]
  },
  {
   "cell_type": "code",
   "execution_count": 29,
   "metadata": {},
   "outputs": [],
   "source": [
    "train_size1 = int(len(resample_df) * 0.80)\n",
    "train1, test1 = resample_df[0:train_size1], resample_df[train_size1:]"
   ]
  },
  {
   "cell_type": "code",
   "execution_count": 30,
   "metadata": {},
   "outputs": [
    {
     "data": {
      "text/plain": [
       "<AxesSubplot:ylabel='Density'>"
      ]
     },
     "execution_count": 30,
     "metadata": {},
     "output_type": "execute_result"
    },
    {
     "data": {
      "image/png": "[encoded data removed]",
      "text/plain": [
       "<Figure size 432x288 with 2 Axes>"
      ]
     },
     "metadata": {
      "needs_background": "light"
     },
     "output_type": "display_data"
    }
   ],
   "source": [
    "# transform training data & save lambda value\n",
    "train_data,fitted_lambda = stats.boxcox(train1)\n",
    "\n",
    "# use lambda value to transform test data\n",
    "test_data = stats.boxcox(test1, fitted_lambda)\n",
    "\n",
    "# (optional) plot train & test\n",
    "fig, ax=plt.subplots(1,2)\n",
    "sns.distplot(train_data, ax=ax[0])\n",
    "sns.distplot(test_data, ax=ax[1])"
   ]
  },
  {
   "cell_type": "code",
   "execution_count": 31,
   "metadata": {},
   "outputs": [
    {
     "data": {
      "text/plain": [
       "(27,)"
      ]
     },
     "execution_count": 31,
     "metadata": {},
     "output_type": "execute_result"
    }
   ],
   "source": [
    "train1.shape"
   ]
  },
  {
   "cell_type": "code",
   "execution_count": 32,
   "metadata": {},
   "outputs": [
    {
     "data": {
      "text/plain": [
       "(7,)"
      ]
     },
     "execution_count": 32,
     "metadata": {},
     "output_type": "execute_result"
    }
   ],
   "source": [
    "test1.shape"
   ]
  },
  {
   "cell_type": "code",
   "execution_count": 33,
   "metadata": {},
   "outputs": [
    {
     "data": {
      "text/plain": [
       "dt\n",
       "2002-12-31    2.364781\n",
       "2003-12-31    2.345699\n",
       "2004-12-31    2.353155\n",
       "2005-12-31    2.371975\n",
       "2006-12-31    2.363991\n",
       "Freq: A-DEC, Name: AverageTemperature, dtype: float64"
      ]
     },
     "execution_count": 33,
     "metadata": {},
     "output_type": "execute_result"
    }
   ],
   "source": [
    "train.tail()"
   ]
  },
  {
   "cell_type": "code",
   "execution_count": 34,
   "metadata": {},
   "outputs": [
    {
     "data": {
      "text/plain": [
       "dt\n",
       "2007-12-31    2.396980\n",
       "2008-12-31    2.368858\n",
       "2009-12-31    2.347705\n",
       "2010-12-31    2.368996\n",
       "2011-12-31    2.351445\n",
       "2012-12-31    2.375425\n",
       "2013-12-31    2.465649\n",
       "Freq: A-DEC, Name: AverageTemperature, dtype: float64"
      ]
     },
     "execution_count": 34,
     "metadata": {},
     "output_type": "execute_result"
    }
   ],
   "source": [
    "test"
   ]
  },
  {
   "cell_type": "code",
   "execution_count": 35,
   "metadata": {},
   "outputs": [
    {
     "data": {
      "image/png": "[encoded data removed]",
      "text/plain": [
       "<Figure size 720x360 with 1 Axes>"
      ]
     },
     "metadata": {
      "needs_background": "light"
     },
     "output_type": "display_data"
    }
   ],
   "source": [
    "train1.plot(figsize=(10,5), title= 'AvgTemperature', fontsize=14)\n",
    "test1.plot(figsize=(10,5), title= 'AvgTemperature', fontsize=14)\n",
    "plt.show()"
   ]
  },
  {
   "cell_type": "code",
   "execution_count": 36,
   "metadata": {},
   "outputs": [],
   "source": [
    "avgdf = latest_df['AverageTemperature'].mean()"
   ]
  },
  {
   "cell_type": "code",
   "execution_count": 37,
   "metadata": {},
   "outputs": [
    {
     "data": {
      "image/png": "[encoded data removed]",
      "text/plain": [
       "<Figure size 1080x360 with 1 Axes>"
      ]
     },
     "metadata": {
      "needs_background": "light"
     },
     "output_type": "display_data"
    }
   ],
   "source": [
    "moving_avg =resample_df.rolling(12).mean()\n",
    "latest_df.plot(kind=\"line\",figsize=(15,5))\n",
    "moving_avg.plot(kind=\"line\",figsize=(15,5),color='red')\n",
    "plt.show()"
   ]
  },
  {
   "cell_type": "code",
   "execution_count": 38,
   "metadata": {},
   "outputs": [
    {
     "data": {
      "image/png": "[encoded data removed]",
      "text/plain": [
       "<Figure size 432x288 with 1 Axes>"
      ]
     },
     "metadata": {
      "needs_background": "light"
     },
     "output_type": "display_data"
    },
    {
     "data": {
      "image/png": "[encoded data removed]",
      "text/plain": [
       "<Figure size 720x432 with 3 Axes>"
      ]
     },
     "metadata": {
      "needs_background": "light"
     },
     "output_type": "display_data"
    }
   ],
   "source": [
    "import statsmodels.tsa.seasonal as sts\n",
    "decomposition = sts.seasonal_decompose(resample_df,model='multiplicative', freq=12)\n",
    "\n",
    "trend = decomposition.trend\n",
    "seasonal = decomposition.seasonal\n",
    "residual = decomposition.resid\n",
    "\n",
    "plt.subplot(411)\n",
    "df.plot(kind=\"line\",figsize=(10,6),label='Original')\n",
    "plt.subplot(412)\n",
    "trend.plot(kind=\"line\",figsize=(10,6),label='trend')\n",
    "plt.legend(loc='best')\n",
    "plt.subplot(413)\n",
    "seasonal.plot(kind=\"line\",figsize=(10,6),label='Seasonality')\n",
    "plt.legend(loc='best')\n",
    "plt.subplot(414)\n",
    "residual.plot(kind=\"line\",figsize=(10,6),label='Residuals')\n",
    "plt.legend(loc='best')\n",
    "plt.tight_layout()"
   ]
  },
  {
   "cell_type": "code",
   "execution_count": 39,
   "metadata": {},
   "outputs": [
    {
     "data": {
      "image/png": "[encoded data removed]",
      "text/plain": [
       "<Figure size 432x288 with 1 Axes>"
      ]
     },
     "metadata": {
      "needs_background": "light"
     },
     "output_type": "display_data"
    },
    {
     "data": {
      "image/png": "[encoded data removed]",
      "text/plain": [
       "<Figure size 720x432 with 3 Axes>"
      ]
     },
     "metadata": {
      "needs_background": "light"
     },
     "output_type": "display_data"
    }
   ],
   "source": [
    "decomposition = sts.seasonal_decompose(resample_df,model='additive', freq=12)\n",
    "\n",
    "trend = decomposition.trend\n",
    "seasonal = decomposition.seasonal\n",
    "residual = decomposition.resid\n",
    "\n",
    "plt.subplot(411)\n",
    "df.plot(kind=\"line\",figsize=(10,6),label='Original')\n",
    "plt.subplot(412)\n",
    "trend.plot(kind=\"line\",figsize=(10,6),label='trend')\n",
    "plt.legend(loc='best')\n",
    "plt.subplot(413)\n",
    "seasonal.plot(kind=\"line\",figsize=(10,6),label='Seasonality')\n",
    "plt.legend(loc='best')\n",
    "plt.subplot(414)\n",
    "residual.plot(kind=\"line\",figsize=(10,6),label='Residuals')\n",
    "plt.legend(loc='best')\n",
    "plt.tight_layout()"
   ]
  },
  {
   "cell_type": "code",
   "execution_count": 40,
   "metadata": {},
   "outputs": [],
   "source": [
    "from statsmodels.tsa.api import ExponentialSmoothing, SimpleExpSmoothing, Holt"
   ]
  },
  {
   "cell_type": "code",
   "execution_count": 41,
   "metadata": {},
   "outputs": [
    {
     "data": {
      "text/html": [
       "<table class=\"simpletable\">\n",
       "<caption>SimpleExpSmoothing Model Results</caption>\n",
       "<tr>\n",
       "  <th>Dep. Variable:</th>    <td>AverageTemperature</td> <th>  No. Observations:  </th>        <td>27</td>       \n",
       "</tr>\n",
       "<tr>\n",
       "  <th>Model:</th>            <td>SimpleExpSmoothing</td> <th>  SSE                </th>       <td>2.764</td>     \n",
       "</tr>\n",
       "<tr>\n",
       "  <th>Optimized:</th>               <td>True</td>        <th>  AIC                </th>      <td>-57.537</td>    \n",
       "</tr>\n",
       "<tr>\n",
       "  <th>Trend:</th>                   <td>None</td>        <th>  BIC                </th>      <td>-54.945</td>    \n",
       "</tr>\n",
       "<tr>\n",
       "  <th>Seasonal:</th>                <td>None</td>        <th>  AICC               </th>      <td>-55.719</td>    \n",
       "</tr>\n",
       "<tr>\n",
       "  <th>Seasonal Periods:</th>        <td>None</td>        <th>  Date:              </th> <td>Sun, 26 Sep 2021</td>\n",
       "</tr>\n",
       "<tr>\n",
       "  <th>Box-Cox:</th>                 <td>False</td>       <th>  Time:              </th>     <td>15:16:57</td>    \n",
       "</tr>\n",
       "<tr>\n",
       "  <th>Box-Cox Coeff.:</th>          <td>None</td>        <th>                     </th>         <td> </td>       \n",
       "</tr>\n",
       "</table>\n",
       "<table class=\"simpletable\">\n",
       "<tr>\n",
       "         <td></td>                 <th>coeff</th>                <th>code</th>               <th>optimized</th>     \n",
       "</tr>\n",
       "<tr>\n",
       "  <th>smoothing_level</th> <td>           0.2905007</td> <td>               alpha</td> <td>                True</td>\n",
       "</tr>\n",
       "<tr>\n",
       "  <th>initial_level</th>   <td>           9.9462898</td> <td>                 l.0</td> <td>                True</td>\n",
       "</tr>\n",
       "</table>"
      ],
      "text/plain": [
       "<class 'statsmodels.iolib.summary.Summary'>\n",
       "\"\"\"\n",
       "                       SimpleExpSmoothing Model Results                       \n",
       "==============================================================================\n",
       "Dep. Variable:     AverageTemperature   No. Observations:                   27\n",
       "Model:             SimpleExpSmoothing   SSE                              2.764\n",
       "Optimized:                       True   AIC                            -57.537\n",
       "Trend:                           None   BIC                            -54.945\n",
       "Seasonal:                        None   AICC                           -55.719\n",
       "Seasonal Periods:                None   Date:                 Sun, 26 Sep 2021\n",
       "Box-Cox:                        False   Time:                         15:16:57\n",
       "Box-Cox Coeff.:                  None                                         \n",
       "==============================================================================\n",
       "                       coeff                 code              optimized      \n",
       "------------------------------------------------------------------------------\n",
       "smoothing_level            0.2905007                alpha                 True\n",
       "initial_level              9.9462898                  l.0                 True\n",
       "------------------------------------------------------------------------------\n",
       "\"\"\""
      ]
     },
     "execution_count": 41,
     "metadata": {},
     "output_type": "execute_result"
    }
   ],
   "source": [
    "train1 = train1.astype('double')\n",
    "ses = SimpleExpSmoothing(train1).fit()\n",
    "ses1 = ses.forecast(7)\n",
    "ses.summary()"
   ]
  },
  {
   "cell_type": "code",
   "execution_count": 42,
   "metadata": {},
   "outputs": [
    {
     "data": {
      "image/png": "[encoded data removed]",
      "text/plain": [
       "<Figure size 720x360 with 1 Axes>"
      ]
     },
     "metadata": {
      "needs_background": "light"
     },
     "output_type": "display_data"
    }
   ],
   "source": [
    "train1.plot(kind=\"line\",figsize=(10,5))\n",
    "ses1.plot(kind=\"line\",figsize=(10,5),color='orange')\n",
    "test1.plot(kind=\"line\",figsize=(10,5),color='black')\n",
    "plt.show()"
   ]
  },
  {
   "cell_type": "code",
   "execution_count": 43,
   "metadata": {},
   "outputs": [
    {
     "data": {
      "text/html": [
       "<table class=\"simpletable\">\n",
       "<caption>ExponentialSmoothing Model Results</caption>\n",
       "<tr>\n",
       "  <th>Dep. Variable:</th>     <td>AverageTemperature</td>  <th>  No. Observations:  </th>        <td>27</td>       \n",
       "</tr>\n",
       "<tr>\n",
       "  <th>Model:</th>            <td>ExponentialSmoothing</td> <th>  SSE                </th>       <td>2.048</td>     \n",
       "</tr>\n",
       "<tr>\n",
       "  <th>Optimized:</th>                <td>True</td>         <th>  AIC                </th>      <td>-61.630</td>    \n",
       "</tr>\n",
       "<tr>\n",
       "  <th>Trend:</th>                  <td>Additive</td>       <th>  BIC                </th>      <td>-56.447</td>    \n",
       "</tr>\n",
       "<tr>\n",
       "  <th>Seasonal:</th>                 <td>None</td>         <th>  AICC               </th>      <td>-57.430</td>    \n",
       "</tr>\n",
       "<tr>\n",
       "  <th>Seasonal Periods:</th>         <td>None</td>         <th>  Date:              </th> <td>Sun, 26 Sep 2021</td>\n",
       "</tr>\n",
       "<tr>\n",
       "  <th>Box-Cox:</th>                  <td>False</td>        <th>  Time:              </th>     <td>15:16:57</td>    \n",
       "</tr>\n",
       "<tr>\n",
       "  <th>Box-Cox Coeff.:</th>           <td>None</td>         <th>                     </th>         <td> </td>       \n",
       "</tr>\n",
       "</table>\n",
       "<table class=\"simpletable\">\n",
       "<tr>\n",
       "         <td></td>                 <th>coeff</th>                <th>code</th>               <th>optimized</th>     \n",
       "</tr>\n",
       "<tr>\n",
       "  <th>smoothing_level</th> <td>          1.4901e-08</td> <td>               alpha</td> <td>                True</td>\n",
       "</tr>\n",
       "<tr>\n",
       "  <th>smoothing_trend</th> <td>           2.416e-09</td> <td>                beta</td> <td>                True</td>\n",
       "</tr>\n",
       "<tr>\n",
       "  <th>initial_level</th>   <td>           9.7782568</td> <td>                 l.0</td> <td>                True</td>\n",
       "</tr>\n",
       "<tr>\n",
       "  <th>initial_trend</th>   <td>           0.0314090</td> <td>                 b.0</td> <td>                True</td>\n",
       "</tr>\n",
       "</table>"
      ],
      "text/plain": [
       "<class 'statsmodels.iolib.summary.Summary'>\n",
       "\"\"\"\n",
       "                       ExponentialSmoothing Model Results                       \n",
       "================================================================================\n",
       "Dep. Variable:       AverageTemperature   No. Observations:                   27\n",
       "Model:             ExponentialSmoothing   SSE                              2.048\n",
       "Optimized:                         True   AIC                            -61.630\n",
       "Trend:                         Additive   BIC                            -56.447\n",
       "Seasonal:                          None   AICC                           -57.430\n",
       "Seasonal Periods:                  None   Date:                 Sun, 26 Sep 2021\n",
       "Box-Cox:                          False   Time:                         15:16:57\n",
       "Box-Cox Coeff.:                    None                                         \n",
       "==============================================================================\n",
       "                       coeff                 code              optimized      \n",
       "------------------------------------------------------------------------------\n",
       "smoothing_level           1.4901e-08                alpha                 True\n",
       "smoothing_trend            2.416e-09                 beta                 True\n",
       "initial_level              9.7782568                  l.0                 True\n",
       "initial_trend              0.0314090                  b.0                 True\n",
       "------------------------------------------------------------------------------\n",
       "\"\"\""
      ]
     },
     "execution_count": 43,
     "metadata": {},
     "output_type": "execute_result"
    }
   ],
   "source": [
    "hes = ExponentialSmoothing(train1, trend=\"add\").fit()\n",
    "hes.summary()"
   ]
  },
  {
   "cell_type": "code",
   "execution_count": 44,
   "metadata": {},
   "outputs": [],
   "source": [
    "hes1 = hes.forecast(7)"
   ]
  },
  {
   "cell_type": "code",
   "execution_count": 45,
   "metadata": {},
   "outputs": [
    {
     "data": {
      "text/plain": [
       "<AxesSubplot:xlabel='dt'>"
      ]
     },
     "execution_count": 45,
     "metadata": {},
     "output_type": "execute_result"
    },
    {
     "data": {
      "image/png": "[encoded data removed]",
      "text/plain": [
       "<Figure size 720x360 with 1 Axes>"
      ]
     },
     "metadata": {
      "needs_background": "light"
     },
     "output_type": "display_data"
    }
   ],
   "source": [
    "train1.plot(kind=\"line\",figsize=(10,5),legend=True)\n",
    "test1.plot(kind=\"line\",figsize=(10,5),legend=True, color='black')\n",
    "hes1.plot(kind=\"line\",figsize=(10,5),color='orange',legend=True,label='ETS pred')"
   ]
  },
  {
   "cell_type": "code",
   "execution_count": 46,
   "metadata": {},
   "outputs": [
    {
     "data": {
      "text/html": [
       "<table class=\"simpletable\">\n",
       "<caption>ExponentialSmoothing Model Results</caption>\n",
       "<tr>\n",
       "  <th>Dep. Variable:</th>     <td>AverageTemperature</td>  <th>  No. Observations:  </th>        <td>27</td>       \n",
       "</tr>\n",
       "<tr>\n",
       "  <th>Model:</th>            <td>ExponentialSmoothing</td> <th>  SSE                </th>       <td>0.896</td>     \n",
       "</tr>\n",
       "<tr>\n",
       "  <th>Optimized:</th>                <td>True</td>         <th>  AIC                </th>      <td>-59.950</td>    \n",
       "</tr>\n",
       "<tr>\n",
       "  <th>Trend:</th>                  <td>Additive</td>       <th>  BIC                </th>      <td>-39.216</td>    \n",
       "</tr>\n",
       "<tr>\n",
       "  <th>Seasonal:</th>            <td>Multiplicative</td>    <th>  AICC               </th>      <td>25.550</td>     \n",
       "</tr>\n",
       "<tr>\n",
       "  <th>Seasonal Periods:</th>          <td>12</td>          <th>  Date:              </th> <td>Sun, 26 Sep 2021</td>\n",
       "</tr>\n",
       "<tr>\n",
       "  <th>Box-Cox:</th>                  <td>False</td>        <th>  Time:              </th>     <td>15:16:58</td>    \n",
       "</tr>\n",
       "<tr>\n",
       "  <th>Box-Cox Coeff.:</th>           <td>None</td>         <th>                     </th>         <td> </td>       \n",
       "</tr>\n",
       "</table>\n",
       "<table class=\"simpletable\">\n",
       "<tr>\n",
       "           <td></td>                  <th>coeff</th>                <th>code</th>               <th>optimized</th>     \n",
       "</tr>\n",
       "<tr>\n",
       "  <th>smoothing_level</th>    <td>          1.4901e-08</td> <td>               alpha</td> <td>                True</td>\n",
       "</tr>\n",
       "<tr>\n",
       "  <th>smoothing_trend</th>    <td>          4.6611e-24</td> <td>                beta</td> <td>                True</td>\n",
       "</tr>\n",
       "<tr>\n",
       "  <th>smoothing_seasonal</th> <td>            0.000000</td> <td>               gamma</td> <td>                True</td>\n",
       "</tr>\n",
       "<tr>\n",
       "  <th>initial_level</th>      <td>           9.9178255</td> <td>                 l.0</td> <td>                True</td>\n",
       "</tr>\n",
       "<tr>\n",
       "  <th>initial_trend</th>      <td>           0.0291489</td> <td>                 b.0</td> <td>                True</td>\n",
       "</tr>\n",
       "<tr>\n",
       "  <th>initial_seasons.0</th>  <td>           0.9761567</td> <td>                 s.0</td> <td>                True</td>\n",
       "</tr>\n",
       "<tr>\n",
       "  <th>initial_seasons.1</th>  <td>           0.9953610</td> <td>                 s.1</td> <td>                True</td>\n",
       "</tr>\n",
       "<tr>\n",
       "  <th>initial_seasons.2</th>  <td>           0.9831911</td> <td>                 s.2</td> <td>                True</td>\n",
       "</tr>\n",
       "<tr>\n",
       "  <th>initial_seasons.3</th>  <td>           1.0243883</td> <td>                 s.3</td> <td>                True</td>\n",
       "</tr>\n",
       "<tr>\n",
       "  <th>initial_seasons.4</th>  <td>           0.9542338</td> <td>                 s.4</td> <td>                True</td>\n",
       "</tr>\n",
       "<tr>\n",
       "  <th>initial_seasons.5</th>  <td>           0.9512223</td> <td>                 s.5</td> <td>                True</td>\n",
       "</tr>\n",
       "<tr>\n",
       "  <th>initial_seasons.6</th>  <td>           0.9960419</td> <td>                 s.6</td> <td>                True</td>\n",
       "</tr>\n",
       "<tr>\n",
       "  <th>initial_seasons.7</th>  <td>           0.9865123</td> <td>                 s.7</td> <td>                True</td>\n",
       "</tr>\n",
       "<tr>\n",
       "  <th>initial_seasons.8</th>  <td>           0.9938924</td> <td>                 s.8</td> <td>                True</td>\n",
       "</tr>\n",
       "<tr>\n",
       "  <th>initial_seasons.9</th>  <td>           1.0039027</td> <td>                 s.9</td> <td>                True</td>\n",
       "</tr>\n",
       "<tr>\n",
       "  <th>initial_seasons.10</th> <td>           1.0187265</td> <td>                s.10</td> <td>                True</td>\n",
       "</tr>\n",
       "<tr>\n",
       "  <th>initial_seasons.11</th> <td>           0.9973729</td> <td>                s.11</td> <td>                True</td>\n",
       "</tr>\n",
       "</table>"
      ],
      "text/plain": [
       "<class 'statsmodels.iolib.summary.Summary'>\n",
       "\"\"\"\n",
       "                       ExponentialSmoothing Model Results                       \n",
       "================================================================================\n",
       "Dep. Variable:       AverageTemperature   No. Observations:                   27\n",
       "Model:             ExponentialSmoothing   SSE                              0.896\n",
       "Optimized:                         True   AIC                            -59.950\n",
       "Trend:                         Additive   BIC                            -39.216\n",
       "Seasonal:                Multiplicative   AICC                            25.550\n",
       "Seasonal Periods:                    12   Date:                 Sun, 26 Sep 2021\n",
       "Box-Cox:                          False   Time:                         15:16:58\n",
       "Box-Cox Coeff.:                    None                                         \n",
       "=================================================================================\n",
       "                          coeff                 code              optimized      \n",
       "---------------------------------------------------------------------------------\n",
       "smoothing_level              1.4901e-08                alpha                 True\n",
       "smoothing_trend              4.6611e-24                 beta                 True\n",
       "smoothing_seasonal             0.000000                gamma                 True\n",
       "initial_level                 9.9178255                  l.0                 True\n",
       "initial_trend                 0.0291489                  b.0                 True\n",
       "initial_seasons.0             0.9761567                  s.0                 True\n",
       "initial_seasons.1             0.9953610                  s.1                 True\n",
       "initial_seasons.2             0.9831911                  s.2                 True\n",
       "initial_seasons.3             1.0243883                  s.3                 True\n",
       "initial_seasons.4             0.9542338                  s.4                 True\n",
       "initial_seasons.5             0.9512223                  s.5                 True\n",
       "initial_seasons.6             0.9960419                  s.6                 True\n",
       "initial_seasons.7             0.9865123                  s.7                 True\n",
       "initial_seasons.8             0.9938924                  s.8                 True\n",
       "initial_seasons.9             1.0039027                  s.9                 True\n",
       "initial_seasons.10            1.0187265                 s.10                 True\n",
       "initial_seasons.11            0.9973729                 s.11                 True\n",
       "---------------------------------------------------------------------------------\n",
       "\"\"\""
      ]
     },
     "execution_count": 46,
     "metadata": {},
     "output_type": "execute_result"
    }
   ],
   "source": [
    "hwes = ExponentialSmoothing(train1 , seasonal_periods=12 ,trend='add', seasonal=\"multiplicative\").fit()\n",
    "hwes.summary()"
   ]
  },
  {
   "cell_type": "code",
   "execution_count": 47,
   "metadata": {},
   "outputs": [],
   "source": [
    "hwes1 = hwes.forecast(7)"
   ]
  },
  {
   "cell_type": "code",
   "execution_count": 48,
   "metadata": {},
   "outputs": [
    {
     "data": {
      "text/plain": [
       "<AxesSubplot:xlabel='dt'>"
      ]
     },
     "execution_count": 48,
     "metadata": {},
     "output_type": "execute_result"
    },
    {
     "data": {
      "image/png": "[encoded data removed]",
      "text/plain": [
       "<Figure size 720x360 with 1 Axes>"
      ]
     },
     "metadata": {
      "needs_background": "light"
     },
     "output_type": "display_data"
    }
   ],
   "source": [
    "train1.plot(kind=\"line\",figsize=(10,5),legend=True)\n",
    "test1.plot(kind=\"line\",figsize=(10,5),legend=True, color='black')\n",
    "hwes1.plot(kind=\"line\",figsize=(10,5),color='orange',legend=True,label='ETS pred')"
   ]
  },
  {
   "cell_type": "code",
   "execution_count": null,
   "metadata": {},
   "outputs": [],
   "source": []
  },
  {
   "cell_type": "code",
   "execution_count": null,
   "metadata": {},
   "outputs": [],
   "source": []
  },
  {
   "cell_type": "code",
   "execution_count": 49,
   "metadata": {},
   "outputs": [
    {
     "data": {
      "text/plain": [
       "dt\n",
       "1980-12-31     9.689856\n",
       "1981-12-31    10.366578\n",
       "1982-12-31     9.837958\n",
       "1983-12-31    10.259516\n",
       "1984-12-31     9.724950\n",
       "1985-12-31     9.465436\n",
       "1986-12-31     9.914519\n",
       "1987-12-31     9.726528\n",
       "1988-12-31    10.158058\n",
       "1989-12-31    10.293226\n",
       "1990-12-31    10.579912\n",
       "1991-12-31    10.394824\n",
       "1992-12-31     9.940195\n",
       "1993-12-31     9.760204\n",
       "1994-12-31    10.067471\n",
       "1995-12-31    10.656668\n",
       "1996-12-31     9.818723\n",
       "1997-12-31    10.064026\n",
       "1998-12-31    10.592179\n",
       "1999-12-31    10.637408\n",
       "2000-12-31    10.426971\n",
       "2001-12-31    10.557589\n",
       "2002-12-31    10.641713\n",
       "2003-12-31    10.440567\n",
       "2004-12-31    10.518699\n",
       "2005-12-31    10.718543\n",
       "2006-12-31    10.633299\n",
       "Freq: A-DEC, Name: AverageTemperature, dtype: float64"
      ]
     },
     "execution_count": 49,
     "metadata": {},
     "output_type": "execute_result"
    }
   ],
   "source": [
    "train1"
   ]
  },
  {
   "cell_type": "code",
   "execution_count": null,
   "metadata": {},
   "outputs": [],
   "source": []
  },
  {
   "cell_type": "code",
   "execution_count": 50,
   "metadata": {},
   "outputs": [],
   "source": [
    "from statsmodels.tsa.stattools import adfuller\n",
    "def test_stationarity(timeseries):\n",
    "  \n",
    "    #Determing rolling statistics\n",
    "    rolmean=pd.core.window.Rolling(timeseries, window=12).mean()\n",
    "    rolstd = pd.core.window.Rolling(timeseries, window=12).std()\n",
    "\n",
    "\n",
    "\n",
    "    #Plot rolling statistics:\n",
    "    orig = plt.plot(timeseries, color='blue',label='Original')\n",
    "    mean = plt.plot(rolmean, color='red', label='Rolling Mean')\n",
    "    std = plt.plot(rolstd, color='black', label = 'Rolling Std')\n",
    "    plt.legend(loc='best')\n",
    "    plt.title('Rolling Mean & Standard Deviation')\n",
    "    plt.show(block=False)\n",
    "    \n",
    "    #Perform Dickey-Fuller test:\n",
    "    print ('Results of Dickey-Fuller Test:')\n",
    "    dftest = adfuller(resample_df, autolag='AIC')\n",
    "    dfoutput = pd.Series(dftest[0:4], index=['Test Statistic','p-value','#Lags Used','Number of Observations Used'])\n",
    "    for key,value in dftest[4].items():\n",
    "        dfoutput['Critical Value (%s)'%key] = value\n",
    "    print (dfoutput)\n",
    "    \n",
    "# H0: series is nonstationary\n",
    "# H1: series is stationary"
   ]
  },
  {
   "cell_type": "code",
   "execution_count": 51,
   "metadata": {},
   "outputs": [
    {
     "data": {
      "image/png": "[encoded data removed]",
      "text/plain": [
       "<Figure size 432x288 with 1 Axes>"
      ]
     },
     "metadata": {
      "needs_background": "light"
     },
     "output_type": "display_data"
    },
    {
     "name": "stdout",
     "output_type": "stream",
     "text": [
      "Results of Dickey-Fuller Test:\n",
      "Test Statistic                 -0.728209\n",
      "p-value                         0.839307\n",
      "#Lags Used                      2.000000\n",
      "Number of Observations Used    31.000000\n",
      "Critical Value (1%)            -3.661429\n",
      "Critical Value (5%)            -2.960525\n",
      "Critical Value (10%)           -2.619319\n",
      "dtype: float64\n"
     ]
    }
   ],
   "source": [
    "test_stationarity(train1)"
   ]
  },
  {
   "cell_type": "markdown",
   "metadata": {},
   "source": [
    "### series is not stationary as mean is increasing even though the std.\n",
    "### pvalue> 0.05 hence H0 accepted that the series is nonstationary"
   ]
  },
  {
   "cell_type": "code",
   "execution_count": 52,
   "metadata": {},
   "outputs": [
    {
     "data": {
      "text/html": [
       "<div>\n",
       "<style scoped>\n",
       "    .dataframe tbody tr th:only-of-type {\n",
       "        vertical-align: middle;\n",
       "    }\n",
       "\n",
       "    .dataframe tbody tr th {\n",
       "        vertical-align: top;\n",
       "    }\n",
       "\n",
       "    .dataframe thead th {\n",
       "        text-align: right;\n",
       "    }\n",
       "</style>\n",
       "<table border=\"1\" class=\"dataframe\">\n",
       "  <thead>\n",
       "    <tr style=\"text-align: right;\">\n",
       "      <th></th>\n",
       "      <th>lb_stat</th>\n",
       "      <th>lb_pvalue</th>\n",
       "    </tr>\n",
       "  </thead>\n",
       "  <tbody>\n",
       "    <tr>\n",
       "      <th>1</th>\n",
       "      <td>5.615776</td>\n",
       "      <td>0.017799</td>\n",
       "    </tr>\n",
       "  </tbody>\n",
       "</table>\n",
       "</div>"
      ],
      "text/plain": [
       "    lb_stat  lb_pvalue\n",
       "1  5.615776   0.017799"
      ]
     },
     "execution_count": 52,
     "metadata": {},
     "output_type": "execute_result"
    }
   ],
   "source": [
    "from statsmodels.stats.diagnostic import acorr_ljungbox\n",
    "\n",
    "acorr_ljungbox(train1, lags=[1], return_df=True)"
   ]
  },
  {
   "cell_type": "code",
   "execution_count": 53,
   "metadata": {},
   "outputs": [
    {
     "data": {
      "text/html": [
       "<div>\n",
       "<style scoped>\n",
       "    .dataframe tbody tr th:only-of-type {\n",
       "        vertical-align: middle;\n",
       "    }\n",
       "\n",
       "    .dataframe tbody tr th {\n",
       "        vertical-align: top;\n",
       "    }\n",
       "\n",
       "    .dataframe thead th {\n",
       "        text-align: right;\n",
       "    }\n",
       "</style>\n",
       "<table border=\"1\" class=\"dataframe\">\n",
       "  <thead>\n",
       "    <tr style=\"text-align: right;\">\n",
       "      <th></th>\n",
       "      <th>lb_stat</th>\n",
       "      <th>lb_pvalue</th>\n",
       "    </tr>\n",
       "  </thead>\n",
       "  <tbody>\n",
       "    <tr>\n",
       "      <th>1</th>\n",
       "      <td>5.902979</td>\n",
       "      <td>0.015115</td>\n",
       "    </tr>\n",
       "  </tbody>\n",
       "</table>\n",
       "</div>"
      ],
      "text/plain": [
       "    lb_stat  lb_pvalue\n",
       "1  5.902979   0.015115"
      ]
     },
     "execution_count": 53,
     "metadata": {},
     "output_type": "execute_result"
    }
   ],
   "source": [
    "acorr_ljungbox(train_data, lags=[1], return_df=True)"
   ]
  },
  {
   "cell_type": "markdown",
   "metadata": {},
   "source": [
    "### Using Ljung-Box Tests pvalue < 0.05 hence series is stationary for train data and also train_data which we taken boxcox transformation"
   ]
  },
  {
   "cell_type": "code",
   "execution_count": 54,
   "metadata": {},
   "outputs": [],
   "source": [
    "diff1=train1.diff()\n",
    "diff1=diff1.dropna()"
   ]
  },
  {
   "cell_type": "code",
   "execution_count": 55,
   "metadata": {},
   "outputs": [
    {
     "data": {
      "image/png": "[encoded data removed]",
      "text/plain": [
       "<Figure size 432x288 with 1 Axes>"
      ]
     },
     "metadata": {
      "needs_background": "light"
     },
     "output_type": "display_data"
    },
    {
     "name": "stdout",
     "output_type": "stream",
     "text": [
      "Results of Dickey-Fuller Test:\n",
      "Test Statistic                 -0.728209\n",
      "p-value                         0.839307\n",
      "#Lags Used                      2.000000\n",
      "Number of Observations Used    31.000000\n",
      "Critical Value (1%)            -3.661429\n",
      "Critical Value (5%)            -2.960525\n",
      "Critical Value (10%)           -2.619319\n",
      "dtype: float64\n"
     ]
    }
   ],
   "source": [
    "test_stationarity(diff1)"
   ]
  },
  {
   "cell_type": "code",
   "execution_count": 56,
   "metadata": {},
   "outputs": [
    {
     "data": {
      "text/html": [
       "<div>\n",
       "<style scoped>\n",
       "    .dataframe tbody tr th:only-of-type {\n",
       "        vertical-align: middle;\n",
       "    }\n",
       "\n",
       "    .dataframe tbody tr th {\n",
       "        vertical-align: top;\n",
       "    }\n",
       "\n",
       "    .dataframe thead th {\n",
       "        text-align: right;\n",
       "    }\n",
       "</style>\n",
       "<table border=\"1\" class=\"dataframe\">\n",
       "  <thead>\n",
       "    <tr style=\"text-align: right;\">\n",
       "      <th></th>\n",
       "      <th>lb_stat</th>\n",
       "      <th>lb_pvalue</th>\n",
       "    </tr>\n",
       "  </thead>\n",
       "  <tbody>\n",
       "    <tr>\n",
       "      <th>1</th>\n",
       "      <td>3.27533</td>\n",
       "      <td>0.070329</td>\n",
       "    </tr>\n",
       "  </tbody>\n",
       "</table>\n",
       "</div>"
      ],
      "text/plain": [
       "   lb_stat  lb_pvalue\n",
       "1  3.27533   0.070329"
      ]
     },
     "execution_count": 56,
     "metadata": {},
     "output_type": "execute_result"
    }
   ],
   "source": [
    "acorr_ljungbox(diff1, lags=[1], return_df=True)"
   ]
  },
  {
   "cell_type": "code",
   "execution_count": 57,
   "metadata": {},
   "outputs": [],
   "source": [
    "diff2=diff1.diff(3)\n",
    "diff2=diff2.dropna()"
   ]
  },
  {
   "cell_type": "code",
   "execution_count": 58,
   "metadata": {},
   "outputs": [
    {
     "data": {
      "image/png": "[encoded data removed]",
      "text/plain": [
       "<Figure size 432x288 with 1 Axes>"
      ]
     },
     "metadata": {
      "needs_background": "light"
     },
     "output_type": "display_data"
    },
    {
     "name": "stdout",
     "output_type": "stream",
     "text": [
      "Results of Dickey-Fuller Test:\n",
      "Test Statistic                 -0.728209\n",
      "p-value                         0.839307\n",
      "#Lags Used                      2.000000\n",
      "Number of Observations Used    31.000000\n",
      "Critical Value (1%)            -3.661429\n",
      "Critical Value (5%)            -2.960525\n",
      "Critical Value (10%)           -2.619319\n",
      "dtype: float64\n"
     ]
    }
   ],
   "source": [
    "test_stationarity(diff2)"
   ]
  },
  {
   "cell_type": "code",
   "execution_count": 59,
   "metadata": {},
   "outputs": [
    {
     "data": {
      "text/html": [
       "<div>\n",
       "<style scoped>\n",
       "    .dataframe tbody tr th:only-of-type {\n",
       "        vertical-align: middle;\n",
       "    }\n",
       "\n",
       "    .dataframe tbody tr th {\n",
       "        vertical-align: top;\n",
       "    }\n",
       "\n",
       "    .dataframe thead th {\n",
       "        text-align: right;\n",
       "    }\n",
       "</style>\n",
       "<table border=\"1\" class=\"dataframe\">\n",
       "  <thead>\n",
       "    <tr style=\"text-align: right;\">\n",
       "      <th></th>\n",
       "      <th>lb_stat</th>\n",
       "      <th>lb_pvalue</th>\n",
       "    </tr>\n",
       "  </thead>\n",
       "  <tbody>\n",
       "    <tr>\n",
       "      <th>1</th>\n",
       "      <td>0.335248</td>\n",
       "      <td>0.562585</td>\n",
       "    </tr>\n",
       "  </tbody>\n",
       "</table>\n",
       "</div>"
      ],
      "text/plain": [
       "    lb_stat  lb_pvalue\n",
       "1  0.335248   0.562585"
      ]
     },
     "execution_count": 59,
     "metadata": {},
     "output_type": "execute_result"
    }
   ],
   "source": [
    "acorr_ljungbox(diff2, lags=[1], return_df=True)"
   ]
  },
  {
   "cell_type": "code",
   "execution_count": 60,
   "metadata": {},
   "outputs": [],
   "source": [
    "#ACF and PACF plots:\n",
    "from statsmodels.tsa.stattools import acf, pacf"
   ]
  },
  {
   "cell_type": "code",
   "execution_count": 61,
   "metadata": {},
   "outputs": [
    {
     "data": {
      "image/png": "[encoded data removed]",
      "text/plain": [
       "<Figure size 1080x720 with 2 Axes>"
      ]
     },
     "metadata": {
      "needs_background": "light"
     },
     "output_type": "display_data"
    }
   ],
   "source": [
    "from pandas import Series\n",
    "from statsmodels.graphics.tsaplots import plot_acf\n",
    "from statsmodels.graphics.tsaplots import plot_pacf\n",
    "from matplotlib import pyplot\n",
    "pyplot.figure(figsize=(15,10))\n",
    "pyplot.subplot(211)\n",
    "plot_acf(train1, ax=pyplot.gca(),lags=12)\n",
    "pyplot.subplot(212)\n",
    "plot_pacf(train1, ax=pyplot.gca(),lags=12)\n",
    "pyplot.show()"
   ]
  },
  {
   "cell_type": "code",
   "execution_count": 62,
   "metadata": {},
   "outputs": [
    {
     "data": {
      "image/png": "[encoded data removed]",
      "text/plain": [
       "<Figure size 1080x720 with 2 Axes>"
      ]
     },
     "metadata": {
      "needs_background": "light"
     },
     "output_type": "display_data"
    }
   ],
   "source": [
    "from pandas import Series\n",
    "from statsmodels.graphics.tsaplots import plot_acf\n",
    "from statsmodels.graphics.tsaplots import plot_pacf\n",
    "from matplotlib import pyplot\n",
    "pyplot.figure(figsize=(15,10))\n",
    "pyplot.subplot(211)\n",
    "plot_acf(diff2, ax=pyplot.gca(),lags=10)\n",
    "pyplot.subplot(212)\n",
    "plot_pacf(diff2, ax=pyplot.gca(),lags=10)\n",
    "pyplot.show()"
   ]
  },
  {
   "cell_type": "markdown",
   "metadata": {},
   "source": [
    "## from ACF and PACF vlaues of p,q = (1,1)"
   ]
  },
  {
   "cell_type": "code",
   "execution_count": 63,
   "metadata": {},
   "outputs": [
    {
     "data": {
      "image/png": "[encoded data removed]",
      "text/plain": [
       "<Figure size 432x288 with 1 Axes>"
      ]
     },
     "metadata": {
      "needs_background": "light"
     },
     "output_type": "display_data"
    }
   ],
   "source": [
    "from pmdarima import auto_arima\n",
    "model = auto_arima(train1,seasonal=True, m=7)\n",
    "model_auto = model.fit(train1)\n",
    "\n",
    "forecast = model.predict(n_periods=len(test1))\n",
    "forecast = pd.DataFrame(forecast,index = test.index,columns=['Prediction'])\n",
    "\n",
    "#plot the predictions for validation set\n",
    "plt.plot(train1, label='Train')\n",
    "plt.plot(test1, label='Test')\n",
    "plt.plot(forecast, label='Prediction', color='black')\n",
    "plt.show()"
   ]
  },
  {
   "cell_type": "code",
   "execution_count": 64,
   "metadata": {},
   "outputs": [
    {
     "name": "stdout",
     "output_type": "stream",
     "text": [
      "                                       SARIMAX Results                                        \n",
      "==============================================================================================\n",
      "Dep. Variable:                                      y   No. Observations:                   27\n",
      "Model:             SARIMAX(1, 1, 3)x(0, 0, [1, 2], 7)   Log Likelihood                  -3.602\n",
      "Date:                                Sun, 26 Sep 2021   AIC                             23.204\n",
      "Time:                                        15:17:25   BIC                             33.269\n",
      "Sample:                                             0   HQIC                            26.102\n",
      "                                                 - 27                                         \n",
      "Covariance Type:                                  opg                                         \n",
      "==============================================================================\n",
      "                 coef    std err          z      P>|z|      [0.025      0.975]\n",
      "------------------------------------------------------------------------------\n",
      "intercept      0.0480      0.032      1.493      0.135      -0.015       0.111\n",
      "ar.L1         -0.5578      0.875     -0.638      0.524      -2.272       1.157\n",
      "ma.L1         -0.0409      1.099     -0.037      0.970      -2.196       2.114\n",
      "ma.L2         -0.8437      1.313     -0.643      0.520      -3.417       1.729\n",
      "ma.L3         -0.0903      0.666     -0.136      0.892      -1.395       1.214\n",
      "ma.S.L7        0.3070      0.476      0.645      0.519      -0.626       1.240\n",
      "ma.S.L14       0.5826      0.937      0.622      0.534      -1.253       2.418\n",
      "sigma2         0.0581      0.072      0.810      0.418      -0.082       0.199\n",
      "===================================================================================\n",
      "Ljung-Box (L1) (Q):                   0.07   Jarque-Bera (JB):                 0.57\n",
      "Prob(Q):                              0.79   Prob(JB):                         0.75\n",
      "Heteroskedasticity (H):               0.45   Skew:                            -0.19\n",
      "Prob(H) (two-sided):                  0.26   Kurtosis:                         2.38\n",
      "===================================================================================\n",
      "\n",
      "Warnings:\n",
      "[1] Covariance matrix calculated using the outer product of gradients (complex-step).\n"
     ]
    }
   ],
   "source": [
    "print(model_auto.summary())"
   ]
  },
  {
   "cell_type": "code",
   "execution_count": 65,
   "metadata": {},
   "outputs": [],
   "source": [
    "from sklearn.metrics import mean_absolute_error, mean_squared_error"
   ]
  },
  {
   "cell_type": "code",
   "execution_count": 66,
   "metadata": {},
   "outputs": [
    {
     "name": "stdout",
     "output_type": "stream",
     "text": [
      "0.2890159310083649\n"
     ]
    }
   ],
   "source": [
    "print(mean_absolute_error(y_true=test1,y_pred=forecast))"
   ]
  },
  {
   "cell_type": "code",
   "execution_count": 67,
   "metadata": {},
   "outputs": [],
   "source": [
    "from statsmodels.tsa.arima_model import ARIMA"
   ]
  },
  {
   "cell_type": "code",
   "execution_count": 68,
   "metadata": {},
   "outputs": [
    {
     "name": "stdout",
     "output_type": "stream",
     "text": [
      "                              ARIMA Model Results                               \n",
      "================================================================================\n",
      "Dep. Variable:     D.AverageTemperature   No. Observations:                   26\n",
      "Model:                   ARIMA(3, 1, 1)   Log Likelihood                  -4.808\n",
      "Method:                         css-mle   S.D. of innovations              0.272\n",
      "Date:                  Sun, 26 Sep 2021   AIC                             21.616\n",
      "Time:                          15:17:26   BIC                             29.165\n",
      "Sample:                      12-31-1981   HQIC                            23.790\n",
      "                           - 12-31-2006                                         \n",
      "==============================================================================================\n",
      "                                 coef    std err          z      P>|z|      [0.025      0.975]\n",
      "----------------------------------------------------------------------------------------------\n",
      "const                          0.0321      0.006      5.134      0.000       0.020       0.044\n",
      "ar.L1.D.AverageTemperature     0.1264      0.197      0.642      0.521      -0.260       0.512\n",
      "ar.L2.D.AverageTemperature    -0.1457      0.205     -0.712      0.477      -0.547       0.255\n",
      "ar.L3.D.AverageTemperature    -0.1126      0.204     -0.553      0.581      -0.512       0.287\n",
      "ma.L1.D.AverageTemperature    -0.9999      0.111     -9.016      0.000      -1.217      -0.783\n",
      "                                    Roots                                    \n",
      "=============================================================================\n",
      "                  Real          Imaginary           Modulus         Frequency\n",
      "-----------------------------------------------------------------------------\n",
      "AR.1            0.7601           -1.6056j            1.7764           -0.1796\n",
      "AR.2            0.7601           +1.6056j            1.7764            0.1796\n",
      "AR.3           -2.8140           -0.0000j            2.8140           -0.5000\n",
      "MA.1            1.0001           +0.0000j            1.0001            0.0000\n",
      "-----------------------------------------------------------------------------\n"
     ]
    }
   ],
   "source": [
    "model1 = ARIMA(train1, order=(3,1,1),freq='A')\n",
    "model_fit=model1.fit(disp=True)\n",
    "print(model_fit.summary())"
   ]
  },
  {
   "cell_type": "code",
   "execution_count": 69,
   "metadata": {},
   "outputs": [
    {
     "data": {
      "image/png": "[encoded data removed]",
      "text/plain": [
       "<Figure size 432x288 with 1 Axes>"
      ]
     },
     "metadata": {
      "needs_background": "light"
     },
     "output_type": "display_data"
    }
   ],
   "source": [
    "forecast1 = model_fit.forecast(steps=7)[0]\n",
    "\n",
    "forecast1 = pd.DataFrame(forecast1,index = test.index,columns=['Prediction'])\n",
    "\n",
    "#plot the predictions for validation set\n",
    "plt.plot(train1, label='Train')\n",
    "plt.plot(test1, label='Test')\n",
    "plt.plot(forecast1, label='Prediction', color='black')\n",
    "plt.show()"
   ]
  },
  {
   "cell_type": "code",
   "execution_count": 70,
   "metadata": {},
   "outputs": [
    {
     "name": "stdout",
     "output_type": "stream",
     "text": [
      "0.28042497686505563\n"
     ]
    }
   ],
   "source": [
    "print(mean_absolute_error(y_true=test1,y_pred=forecast1))"
   ]
  },
  {
   "cell_type": "code",
   "execution_count": 71,
   "metadata": {},
   "outputs": [
    {
     "name": "stdout",
     "output_type": "stream",
     "text": [
      "Predicted Values\n",
      "**************************************************\n",
      "            Prediction\n",
      "dt                    \n",
      "2007-12-31   10.652240\n",
      "2008-12-31   10.680908\n",
      "2009-12-31   10.727731\n",
      "2010-12-31   10.763698\n",
      "2011-12-31   10.794552\n",
      "2012-12-31   10.824297\n",
      "2013-12-31   10.855870\n",
      "--------------------------------------------------\n",
      "Actual Values\n",
      "**************************************************\n",
      "dt\n",
      "2007-12-31    10.989940\n",
      "2008-12-31    10.685179\n",
      "2009-12-31    10.461537\n",
      "2010-12-31    10.686661\n",
      "2011-12-31    10.500732\n",
      "2012-12-31    10.755588\n",
      "2013-12-31    11.771115\n",
      "Freq: A-DEC, Name: AverageTemperature, dtype: float64\n"
     ]
    }
   ],
   "source": [
    "print(\"Predicted Values\")\n",
    "print(\"*\"*50)\n",
    "print(forecast1)\n",
    "print(\"-\"*50)\n",
    "print(\"Actual Values\")\n",
    "print(\"*\"*50)\n",
    "print(test1)"
   ]
  },
  {
   "cell_type": "code",
   "execution_count": null,
   "metadata": {},
   "outputs": [],
   "source": []
  },
  {
   "cell_type": "code",
   "execution_count": 72,
   "metadata": {},
   "outputs": [],
   "source": [
    "import statsmodels.api as sm"
   ]
  },
  {
   "cell_type": "raw",
   "metadata": {},
   "source": [
    "I don't know the best way to estimate seasonal_order(sp,sd,sq,s) parameters.\n",
    "parameter s:\n",
    "\n",
    "1 for yearly\n",
    "4 for quarterly\n",
    "12 for monthly\n",
    "52 for weekly\n",
    "365 for daily"
   ]
  },
  {
   "cell_type": "code",
   "execution_count": 161,
   "metadata": {},
   "outputs": [],
   "source": [
    "model_sari = sm.tsa.SARIMAX(train1, order=(3,1,1), seasonal_order=(0,0,2,7))"
   ]
  },
  {
   "cell_type": "code",
   "execution_count": 162,
   "metadata": {},
   "outputs": [
    {
     "name": "stdout",
     "output_type": "stream",
     "text": [
      "                                     SARIMAX Results                                     \n",
      "=========================================================================================\n",
      "Dep. Variable:                AverageTemperature   No. Observations:                   27\n",
      "Model:             SARIMAX(3, 1, 1)x(0, 0, 1, 7)   Log Likelihood                  -6.900\n",
      "Date:                           Sun, 26 Sep 2021   AIC                             25.801\n",
      "Time:                                   15:27:48   BIC                             33.349\n",
      "Sample:                               12-31-1980   HQIC                            27.974\n",
      "                                    - 12-31-2006                                         \n",
      "Covariance Type:                             opg                                         \n",
      "==============================================================================\n",
      "                 coef    std err          z      P>|z|      [0.025      0.975]\n",
      "------------------------------------------------------------------------------\n",
      "ar.L1          0.1775      0.465      0.381      0.703      -0.735       1.090\n",
      "ar.L2         -0.1156      0.272     -0.424      0.671      -0.650       0.418\n",
      "ar.L3         -0.0102      0.257     -0.040      0.968      -0.514       0.494\n",
      "ma.L1         -0.7367      0.438     -1.683      0.092      -1.595       0.121\n",
      "ma.S.L7        0.2600      0.277      0.940      0.347      -0.282       0.802\n",
      "sigma2         0.0953      0.041      2.320      0.020       0.015       0.176\n",
      "===================================================================================\n",
      "Ljung-Box (L1) (Q):                   0.11   Jarque-Bera (JB):                 1.43\n",
      "Prob(Q):                              0.74   Prob(JB):                         0.49\n",
      "Heteroskedasticity (H):               0.38   Skew:                            -0.50\n",
      "Prob(H) (two-sided):                  0.16   Kurtosis:                         2.45\n",
      "===================================================================================\n",
      "\n",
      "Warnings:\n",
      "[1] Covariance matrix calculated using the outer product of gradients (complex-step).\n"
     ]
    }
   ],
   "source": [
    "model_fit_sari=model_sari.fit(disp=True)\n",
    "print(model_fit_sari.summary())"
   ]
  },
  {
   "cell_type": "code",
   "execution_count": 163,
   "metadata": {},
   "outputs": [
    {
     "data": {
      "image/png": "[encoded data removed]",
      "text/plain": [
       "<Figure size 432x288 with 1 Axes>"
      ]
     },
     "metadata": {
      "needs_background": "light"
     },
     "output_type": "display_data"
    }
   ],
   "source": [
    "forecast_sari = model_fit_sari.forecast(steps=7)\n",
    "#print(forecast)\n",
    "\n",
    "#plot the predictions for validation set\n",
    "plt.plot(train1, label='Train')\n",
    "plt.plot(test1, label='Test')\n",
    "plt.plot(forecast_sari, label='Prediction', color='black')\n",
    "plt.show()"
   ]
  },
  {
   "cell_type": "code",
   "execution_count": 164,
   "metadata": {},
   "outputs": [
    {
     "name": "stdout",
     "output_type": "stream",
     "text": [
      "0.2967169317915688\n"
     ]
    }
   ],
   "source": [
    "print(mean_absolute_error(y_true=test1,y_pred=forecast_sari))"
   ]
  },
  {
   "cell_type": "code",
   "execution_count": 165,
   "metadata": {},
   "outputs": [
    {
     "name": "stdout",
     "output_type": "stream",
     "text": [
      "Predicted Values\n",
      "**************************************************\n",
      "2007-12-31    10.596653\n",
      "2008-12-31    10.620537\n",
      "2009-12-31    10.611086\n",
      "2010-12-31    10.619187\n",
      "2011-12-31    10.625417\n",
      "2012-12-31    10.640661\n",
      "2013-12-31    10.608662\n",
      "Freq: A-DEC, Name: predicted_mean, dtype: float64\n",
      "--------------------------------------------------\n",
      "Actual Values\n",
      "**************************************************\n",
      "dt\n",
      "2007-12-31    10.989940\n",
      "2008-12-31    10.685179\n",
      "2009-12-31    10.461537\n",
      "2010-12-31    10.686661\n",
      "2011-12-31    10.500732\n",
      "2012-12-31    10.755588\n",
      "2013-12-31    11.771115\n",
      "Freq: A-DEC, Name: AverageTemperature, dtype: float64\n"
     ]
    }
   ],
   "source": [
    "print(\"Predicted Values\")\n",
    "print(\"*\"*50)\n",
    "print(forecast_sari)\n",
    "print(\"-\"*50)\n",
    "print(\"Actual Values\")\n",
    "print(\"*\"*50)\n",
    "print(test1)"
   ]
  },
  {
   "cell_type": "code",
   "execution_count": 78,
   "metadata": {},
   "outputs": [],
   "source": [
    "converted_results = [(np.exp(x)) for x in [i for i in forecast_sari]]"
   ]
  },
  {
   "cell_type": "code",
   "execution_count": 79,
   "metadata": {},
   "outputs": [
    {
     "data": {
      "text/plain": [
       "[60056.452583463986,\n",
       " 31548.85213145056,\n",
       " 27760.724683339573,\n",
       " 45247.97372909679,\n",
       " 40890.273101799445,\n",
       " 52056.01865781109,\n",
       " 58396.88612946562]"
      ]
     },
     "execution_count": 79,
     "metadata": {},
     "output_type": "execute_result"
    }
   ],
   "source": [
    "converted_results"
   ]
  },
  {
   "cell_type": "markdown",
   "metadata": {},
   "source": [
    "### SARIMAX with transformed data"
   ]
  },
  {
   "cell_type": "code",
   "execution_count": 80,
   "metadata": {},
   "outputs": [],
   "source": [
    "model_sari1 = sm.tsa.SARIMAX(train_data, order=(3,1,1), seasonal_order=(3,1,1,12))"
   ]
  },
  {
   "cell_type": "code",
   "execution_count": 81,
   "metadata": {},
   "outputs": [
    {
     "name": "stdout",
     "output_type": "stream",
     "text": [
      "                                     SARIMAX Results                                      \n",
      "==========================================================================================\n",
      "Dep. Variable:                                  y   No. Observations:                   27\n",
      "Model:             SARIMAX(3, 1, 1)x(3, 1, 1, 12)   Log Likelihood                -208.574\n",
      "Date:                            Sun, 26 Sep 2021   AIC                            435.147\n",
      "Time:                                    15:17:33   BIC                            440.899\n",
      "Sample:                                         0   HQIC                           434.615\n",
      "                                             - 27                                         \n",
      "Covariance Type:                              opg                                         \n",
      "==============================================================================\n",
      "                 coef    std err          z      P>|z|      [0.025      0.975]\n",
      "------------------------------------------------------------------------------\n",
      "ar.L1          0.3341      8.744      0.038      0.970     -16.804      17.472\n",
      "ar.L2         -0.4621      0.631     -0.733      0.464      -1.698       0.774\n",
      "ar.L3          0.1402      3.637      0.039      0.969      -6.989       7.269\n",
      "ma.L1         -0.2162      9.096     -0.024      0.981     -18.044      17.612\n",
      "ar.S.L12      -0.2307   9.27e+05  -2.49e-07      1.000   -1.82e+06    1.82e+06\n",
      "ar.S.L24       0.0903   4.44e+05   2.04e-07      1.000   -8.69e+05    8.69e+05\n",
      "ar.S.L36       0.0072   2.62e+04   2.75e-07      1.000   -5.14e+04    5.14e+04\n",
      "ma.S.L12      -0.2480   9.27e+05  -2.68e-07      1.000   -1.82e+06    1.82e+06\n",
      "sigma2      7.425e+11      1.564   4.75e+11      0.000    7.42e+11    7.42e+11\n",
      "===================================================================================\n",
      "Ljung-Box (L1) (Q):                   3.08   Jarque-Bera (JB):                 0.25\n",
      "Prob(Q):                              0.08   Prob(JB):                         0.88\n",
      "Heteroskedasticity (H):               0.14   Skew:                             0.14\n",
      "Prob(H) (two-sided):                  0.05   Kurtosis:                         2.41\n",
      "===================================================================================\n",
      "\n",
      "Warnings:\n",
      "[1] Covariance matrix calculated using the outer product of gradients (complex-step).\n",
      "[2] Covariance matrix is singular or near-singular, with condition number 1.35e+28. Standard errors may be unstable.\n"
     ]
    }
   ],
   "source": [
    "model_fit_sari1=model_sari1.fit(disp=True)\n",
    "print(model_fit_sari1.summary())"
   ]
  },
  {
   "cell_type": "code",
   "execution_count": 82,
   "metadata": {},
   "outputs": [
    {
     "data": {
      "image/png": "[encoded data removed]",
      "text/plain": [
       "<Figure size 432x288 with 1 Axes>"
      ]
     },
     "metadata": {
      "needs_background": "light"
     },
     "output_type": "display_data"
    },
    {
     "name": "stdout",
     "output_type": "stream",
     "text": [
      "986774.3046448353\n"
     ]
    }
   ],
   "source": [
    "forecast_sari1 = model_fit_sari1.forecast(steps=7)\n",
    "#print(forecast)\n",
    "\n",
    "#plot the predictions for validation set\n",
    "plt.plot(train_data, label='Train')\n",
    "plt.plot(test_data, label='Test')\n",
    "plt.plot(forecast_sari1, label='Prediction', color='black')\n",
    "plt.show()\n",
    "print(mean_absolute_error(y_true=test_data,y_pred=forecast_sari1))"
   ]
  },
  {
   "cell_type": "code",
   "execution_count": 83,
   "metadata": {},
   "outputs": [
    {
     "data": {
      "text/plain": [
       "array([5808930.0106417 , 4198205.86776136, 4307226.09483683,\n",
       "       5393333.68400491, 5287254.20596847, 5366752.83999621,\n",
       "       5726370.06491986])"
      ]
     },
     "execution_count": 83,
     "metadata": {},
     "output_type": "execute_result"
    }
   ],
   "source": [
    "forecast_sari1"
   ]
  },
  {
   "cell_type": "code",
   "execution_count": 84,
   "metadata": {},
   "outputs": [
    {
     "name": "stdout",
     "output_type": "stream",
     "text": [
      "[10.96690196 10.49199132 10.52872398 10.85648024 10.82712048 10.84917057\n",
      " 10.94552189]\n"
     ]
    }
   ],
   "source": [
    "print(inv_boxcox(forecast_sari1, fitted_lambda))"
   ]
  },
  {
   "cell_type": "code",
   "execution_count": 85,
   "metadata": {},
   "outputs": [
    {
     "name": "stdout",
     "output_type": "stream",
     "text": [
      "986774.3046448353\n"
     ]
    }
   ],
   "source": [
    "print(mean_absolute_error(y_true=test_data,y_pred=forecast_sari1))"
   ]
  },
  {
   "cell_type": "code",
   "execution_count": null,
   "metadata": {},
   "outputs": [],
   "source": []
  },
  {
   "cell_type": "code",
   "execution_count": 86,
   "metadata": {},
   "outputs": [],
   "source": [
    "import warnings\n",
    "from pandas import Series"
   ]
  },
  {
   "cell_type": "code",
   "execution_count": 87,
   "metadata": {},
   "outputs": [],
   "source": [
    "def evaluate_arima_model(X, arima_order):\n",
    "    # prepare training dataset\n",
    "    train_size = int(len(X) * 0.80)\n",
    "    train, test = X[0:train_size], X[train_size:]\n",
    "    history = [x for x in train]\n",
    "    # make predictions\n",
    "    predictions = list()\n",
    "    for t in range(len(test)):\n",
    "        model = ARIMA(history, order=arima_order)\n",
    "        model_fit = model.fit(disp=0)\n",
    "        yhat = model_fit.forecast()[0]\n",
    "        predictions.append(yhat)\n",
    "        history.append(test[t])\n",
    "    # calculate out of sample error\n",
    "    error = mean_squared_error(test, predictions)\n",
    "    return error"
   ]
  },
  {
   "cell_type": "code",
   "execution_count": 88,
   "metadata": {},
   "outputs": [],
   "source": [
    "warnings.filterwarnings(\"ignore\")"
   ]
  },
  {
   "cell_type": "code",
   "execution_count": 89,
   "metadata": {},
   "outputs": [],
   "source": [
    "p_values = [0, 1, 2, 3]\n",
    "d_values = range(0, 3) #this is the range for the values\n",
    "q_values = range(0, 3) #this is the range for the values"
   ]
  },
  {
   "cell_type": "code",
   "execution_count": 90,
   "metadata": {},
   "outputs": [],
   "source": [
    "def evaluate_models(dataset, p_values, d_values, q_values):\n",
    "    dataset = dataset.astype('float32')\n",
    "    best_score, best_cfg = float(\"inf\"), None\n",
    "    for p in p_values:\n",
    "        for d in d_values:\n",
    "            for q in q_values:\n",
    "                order = (p,d,q)\n",
    "                try:\n",
    "                    mse = evaluate_arima_model(dataset, order)\n",
    "                    if mse < best_score:\n",
    "                        best_score, best_cfg = mse, order\n",
    "                    print('ARIMA%s MSE=%.3f' % (order,mse))\n",
    "                except:\n",
    "                    continue\n",
    "    print('Best ARIMA%s MSE=%.3f' % (best_cfg, best_score))"
   ]
  },
  {
   "cell_type": "code",
   "execution_count": 91,
   "metadata": {},
   "outputs": [
    {
     "name": "stdout",
     "output_type": "stream",
     "text": [
      "ARIMA(0, 0, 0) MSE=0.490\n",
      "ARIMA(0, 0, 1) MSE=0.353\n",
      "ARIMA(0, 0, 2) MSE=0.344\n",
      "ARIMA(0, 1, 0) MSE=0.200\n",
      "ARIMA(0, 1, 1) MSE=0.175\n",
      "ARIMA(0, 1, 2) MSE=0.173\n",
      "ARIMA(0, 2, 0) MSE=0.267\n",
      "ARIMA(0, 2, 1) MSE=0.211\n",
      "ARIMA(0, 2, 2) MSE=0.195\n",
      "ARIMA(1, 0, 0) MSE=0.291\n",
      "ARIMA(1, 0, 1) MSE=0.493\n",
      "ARIMA(1, 1, 0) MSE=0.214\n",
      "ARIMA(1, 1, 1) MSE=0.175\n",
      "ARIMA(1, 2, 0) MSE=0.249\n",
      "ARIMA(2, 0, 0) MSE=0.282\n",
      "ARIMA(2, 0, 1) MSE=0.303\n",
      "ARIMA(2, 1, 0) MSE=0.203\n",
      "ARIMA(2, 1, 1) MSE=0.167\n",
      "ARIMA(2, 2, 0) MSE=0.197\n",
      "ARIMA(2, 2, 1) MSE=0.212\n",
      "ARIMA(2, 2, 2) MSE=0.257\n",
      "ARIMA(3, 0, 0) MSE=0.263\n",
      "ARIMA(3, 0, 1) MSE=0.268\n",
      "ARIMA(3, 1, 0) MSE=0.219\n",
      "ARIMA(3, 1, 1) MSE=0.165\n",
      "ARIMA(3, 1, 2) MSE=0.184\n",
      "ARIMA(3, 2, 0) MSE=0.252\n",
      "Best ARIMA(3, 1, 1) MSE=0.165\n"
     ]
    }
   ],
   "source": [
    "evaluate_models(resample_df.values, p_values, d_values, q_values)"
   ]
  },
  {
   "cell_type": "markdown",
   "metadata": {},
   "source": [
    "## ARIMA model with values p=3,d=1 and q=1 gives AIC = 21.616 and MSE= 0.28\n",
    "## SARIMAX model with values p=3,d=1, q=1 and s=12 gives AIC = 28 and MSE= 0.23\n",
    "## shown forecast values for 7 yrs"
   ]
  },
  {
   "cell_type": "raw",
   "metadata": {},
   "source": [
    "Predicted Values\n",
    "**************************************************\n",
    "2007-12-31    11.003040\n",
    "2008-12-31    10.359292\n",
    "2009-12-31    10.231378\n",
    "2010-12-31    10.719913\n",
    "2011-12-31    10.618647\n",
    "2012-12-31    10.860076\n",
    "2013-12-31    10.975018\n",
    "Freq: A-DEC, Name: predicted_mean, dtype: float64\n",
    "--------------------------------------------------\n",
    "Actual Values\n",
    "**************************************************\n",
    "            AverageTemperature\n",
    "Date                          \n",
    "2007-12-31           10.989940\n",
    "2008-12-31           10.685179\n",
    "2009-12-31           10.461537\n",
    "2010-12-31           10.686661\n",
    "2011-12-31           10.500732\n",
    "2012-12-31           10.755588\n",
    "2013-12-31           11.771115\n",
    "​"
   ]
  },
  {
   "cell_type": "code",
   "execution_count": 92,
   "metadata": {},
   "outputs": [
    {
     "data": {
      "text/plain": [
       "dt\n",
       "1980-12-31    2.271080\n",
       "1981-12-31    2.338587\n",
       "1982-12-31    2.286248\n",
       "1983-12-31    2.328206\n",
       "1984-12-31    2.274695\n",
       "1985-12-31    2.247647\n",
       "1986-12-31    2.294000\n",
       "1987-12-31    2.274857\n",
       "1988-12-31    2.318267\n",
       "1989-12-31    2.331486\n",
       "1990-12-31    2.358957\n",
       "1991-12-31    2.341308\n",
       "1992-12-31    2.296587\n",
       "1993-12-31    2.278313\n",
       "1994-12-31    2.309309\n",
       "1995-12-31    2.366186\n",
       "1996-12-31    2.284291\n",
       "1997-12-31    2.308967\n",
       "1998-12-31    2.360116\n",
       "1999-12-31    2.364377\n",
       "2000-12-31    2.344396\n",
       "2001-12-31    2.356845\n",
       "2002-12-31    2.364781\n",
       "2003-12-31    2.345699\n",
       "2004-12-31    2.353155\n",
       "2005-12-31    2.371975\n",
       "2006-12-31    2.363991\n",
       "Freq: A-DEC, Name: AverageTemperature, dtype: float64"
      ]
     },
     "execution_count": 92,
     "metadata": {},
     "output_type": "execute_result"
    }
   ],
   "source": [
    "train"
   ]
  },
  {
   "cell_type": "code",
   "execution_count": 93,
   "metadata": {},
   "outputs": [],
   "source": [
    "train_sizedf = int(len(df1) * 0.80)\n",
    "traindf, testdf = df1[0:train_size], df1[train_size:]"
   ]
  },
  {
   "cell_type": "code",
   "execution_count": 94,
   "metadata": {},
   "outputs": [
    {
     "data": {
      "text/html": [
       "<div>\n",
       "<style scoped>\n",
       "    .dataframe tbody tr th:only-of-type {\n",
       "        vertical-align: middle;\n",
       "    }\n",
       "\n",
       "    .dataframe tbody tr th {\n",
       "        vertical-align: top;\n",
       "    }\n",
       "\n",
       "    .dataframe thead th {\n",
       "        text-align: right;\n",
       "    }\n",
       "</style>\n",
       "<table border=\"1\" class=\"dataframe\">\n",
       "  <thead>\n",
       "    <tr style=\"text-align: right;\">\n",
       "      <th></th>\n",
       "      <th>AverageTemperature</th>\n",
       "    </tr>\n",
       "    <tr>\n",
       "      <th>dt</th>\n",
       "      <th></th>\n",
       "    </tr>\n",
       "  </thead>\n",
       "  <tbody>\n",
       "    <tr>\n",
       "      <th>1980-12-31</th>\n",
       "      <td>9.689856</td>\n",
       "    </tr>\n",
       "    <tr>\n",
       "      <th>1981-12-31</th>\n",
       "      <td>10.366578</td>\n",
       "    </tr>\n",
       "    <tr>\n",
       "      <th>1982-12-31</th>\n",
       "      <td>9.837958</td>\n",
       "    </tr>\n",
       "    <tr>\n",
       "      <th>1983-12-31</th>\n",
       "      <td>10.259516</td>\n",
       "    </tr>\n",
       "    <tr>\n",
       "      <th>1984-12-31</th>\n",
       "      <td>9.724950</td>\n",
       "    </tr>\n",
       "    <tr>\n",
       "      <th>1985-12-31</th>\n",
       "      <td>9.465436</td>\n",
       "    </tr>\n",
       "    <tr>\n",
       "      <th>1986-12-31</th>\n",
       "      <td>9.914519</td>\n",
       "    </tr>\n",
       "    <tr>\n",
       "      <th>1987-12-31</th>\n",
       "      <td>9.726528</td>\n",
       "    </tr>\n",
       "    <tr>\n",
       "      <th>1988-12-31</th>\n",
       "      <td>10.158058</td>\n",
       "    </tr>\n",
       "    <tr>\n",
       "      <th>1989-12-31</th>\n",
       "      <td>10.293226</td>\n",
       "    </tr>\n",
       "    <tr>\n",
       "      <th>1990-12-31</th>\n",
       "      <td>10.579912</td>\n",
       "    </tr>\n",
       "    <tr>\n",
       "      <th>1991-12-31</th>\n",
       "      <td>10.394824</td>\n",
       "    </tr>\n",
       "    <tr>\n",
       "      <th>1992-12-31</th>\n",
       "      <td>9.940195</td>\n",
       "    </tr>\n",
       "    <tr>\n",
       "      <th>1993-12-31</th>\n",
       "      <td>9.760204</td>\n",
       "    </tr>\n",
       "    <tr>\n",
       "      <th>1994-12-31</th>\n",
       "      <td>10.067471</td>\n",
       "    </tr>\n",
       "    <tr>\n",
       "      <th>1995-12-31</th>\n",
       "      <td>10.656668</td>\n",
       "    </tr>\n",
       "    <tr>\n",
       "      <th>1996-12-31</th>\n",
       "      <td>9.818723</td>\n",
       "    </tr>\n",
       "    <tr>\n",
       "      <th>1997-12-31</th>\n",
       "      <td>10.064026</td>\n",
       "    </tr>\n",
       "    <tr>\n",
       "      <th>1998-12-31</th>\n",
       "      <td>10.592179</td>\n",
       "    </tr>\n",
       "    <tr>\n",
       "      <th>1999-12-31</th>\n",
       "      <td>10.637408</td>\n",
       "    </tr>\n",
       "    <tr>\n",
       "      <th>2000-12-31</th>\n",
       "      <td>10.426971</td>\n",
       "    </tr>\n",
       "    <tr>\n",
       "      <th>2001-12-31</th>\n",
       "      <td>10.557589</td>\n",
       "    </tr>\n",
       "    <tr>\n",
       "      <th>2002-12-31</th>\n",
       "      <td>10.641713</td>\n",
       "    </tr>\n",
       "    <tr>\n",
       "      <th>2003-12-31</th>\n",
       "      <td>10.440567</td>\n",
       "    </tr>\n",
       "    <tr>\n",
       "      <th>2004-12-31</th>\n",
       "      <td>10.518699</td>\n",
       "    </tr>\n",
       "    <tr>\n",
       "      <th>2005-12-31</th>\n",
       "      <td>10.718543</td>\n",
       "    </tr>\n",
       "    <tr>\n",
       "      <th>2006-12-31</th>\n",
       "      <td>10.633299</td>\n",
       "    </tr>\n",
       "  </tbody>\n",
       "</table>\n",
       "</div>"
      ],
      "text/plain": [
       "            AverageTemperature\n",
       "dt                            \n",
       "1980-12-31            9.689856\n",
       "1981-12-31           10.366578\n",
       "1982-12-31            9.837958\n",
       "1983-12-31           10.259516\n",
       "1984-12-31            9.724950\n",
       "1985-12-31            9.465436\n",
       "1986-12-31            9.914519\n",
       "1987-12-31            9.726528\n",
       "1988-12-31           10.158058\n",
       "1989-12-31           10.293226\n",
       "1990-12-31           10.579912\n",
       "1991-12-31           10.394824\n",
       "1992-12-31            9.940195\n",
       "1993-12-31            9.760204\n",
       "1994-12-31           10.067471\n",
       "1995-12-31           10.656668\n",
       "1996-12-31            9.818723\n",
       "1997-12-31           10.064026\n",
       "1998-12-31           10.592179\n",
       "1999-12-31           10.637408\n",
       "2000-12-31           10.426971\n",
       "2001-12-31           10.557589\n",
       "2002-12-31           10.641713\n",
       "2003-12-31           10.440567\n",
       "2004-12-31           10.518699\n",
       "2005-12-31           10.718543\n",
       "2006-12-31           10.633299"
      ]
     },
     "execution_count": 94,
     "metadata": {},
     "output_type": "execute_result"
    }
   ],
   "source": [
    "traindf"
   ]
  },
  {
   "cell_type": "code",
   "execution_count": 95,
   "metadata": {},
   "outputs": [
    {
     "name": "stderr",
     "output_type": "stream",
     "text": [
      "Importing plotly failed. Interactive plots will not work.\n"
     ]
    }
   ],
   "source": [
    "import fbprophet"
   ]
  },
  {
   "cell_type": "code",
   "execution_count": 96,
   "metadata": {},
   "outputs": [],
   "source": [
    "traindf['ds'] = traindf.index\n",
    "traindf['y'] = traindf['AverageTemperature']"
   ]
  },
  {
   "cell_type": "code",
   "execution_count": 97,
   "metadata": {},
   "outputs": [
    {
     "data": {
      "text/html": [
       "<div>\n",
       "<style scoped>\n",
       "    .dataframe tbody tr th:only-of-type {\n",
       "        vertical-align: middle;\n",
       "    }\n",
       "\n",
       "    .dataframe tbody tr th {\n",
       "        vertical-align: top;\n",
       "    }\n",
       "\n",
       "    .dataframe thead th {\n",
       "        text-align: right;\n",
       "    }\n",
       "</style>\n",
       "<table border=\"1\" class=\"dataframe\">\n",
       "  <thead>\n",
       "    <tr style=\"text-align: right;\">\n",
       "      <th></th>\n",
       "      <th>AverageTemperature</th>\n",
       "      <th>ds</th>\n",
       "      <th>y</th>\n",
       "    </tr>\n",
       "    <tr>\n",
       "      <th>dt</th>\n",
       "      <th></th>\n",
       "      <th></th>\n",
       "      <th></th>\n",
       "    </tr>\n",
       "  </thead>\n",
       "  <tbody>\n",
       "    <tr>\n",
       "      <th>1980-12-31</th>\n",
       "      <td>9.689856</td>\n",
       "      <td>1980-12-31</td>\n",
       "      <td>9.689856</td>\n",
       "    </tr>\n",
       "    <tr>\n",
       "      <th>1981-12-31</th>\n",
       "      <td>10.366578</td>\n",
       "      <td>1981-12-31</td>\n",
       "      <td>10.366578</td>\n",
       "    </tr>\n",
       "    <tr>\n",
       "      <th>1982-12-31</th>\n",
       "      <td>9.837958</td>\n",
       "      <td>1982-12-31</td>\n",
       "      <td>9.837958</td>\n",
       "    </tr>\n",
       "    <tr>\n",
       "      <th>1983-12-31</th>\n",
       "      <td>10.259516</td>\n",
       "      <td>1983-12-31</td>\n",
       "      <td>10.259516</td>\n",
       "    </tr>\n",
       "    <tr>\n",
       "      <th>1984-12-31</th>\n",
       "      <td>9.724950</td>\n",
       "      <td>1984-12-31</td>\n",
       "      <td>9.724950</td>\n",
       "    </tr>\n",
       "    <tr>\n",
       "      <th>1985-12-31</th>\n",
       "      <td>9.465436</td>\n",
       "      <td>1985-12-31</td>\n",
       "      <td>9.465436</td>\n",
       "    </tr>\n",
       "    <tr>\n",
       "      <th>1986-12-31</th>\n",
       "      <td>9.914519</td>\n",
       "      <td>1986-12-31</td>\n",
       "      <td>9.914519</td>\n",
       "    </tr>\n",
       "    <tr>\n",
       "      <th>1987-12-31</th>\n",
       "      <td>9.726528</td>\n",
       "      <td>1987-12-31</td>\n",
       "      <td>9.726528</td>\n",
       "    </tr>\n",
       "    <tr>\n",
       "      <th>1988-12-31</th>\n",
       "      <td>10.158058</td>\n",
       "      <td>1988-12-31</td>\n",
       "      <td>10.158058</td>\n",
       "    </tr>\n",
       "    <tr>\n",
       "      <th>1989-12-31</th>\n",
       "      <td>10.293226</td>\n",
       "      <td>1989-12-31</td>\n",
       "      <td>10.293226</td>\n",
       "    </tr>\n",
       "    <tr>\n",
       "      <th>1990-12-31</th>\n",
       "      <td>10.579912</td>\n",
       "      <td>1990-12-31</td>\n",
       "      <td>10.579912</td>\n",
       "    </tr>\n",
       "    <tr>\n",
       "      <th>1991-12-31</th>\n",
       "      <td>10.394824</td>\n",
       "      <td>1991-12-31</td>\n",
       "      <td>10.394824</td>\n",
       "    </tr>\n",
       "    <tr>\n",
       "      <th>1992-12-31</th>\n",
       "      <td>9.940195</td>\n",
       "      <td>1992-12-31</td>\n",
       "      <td>9.940195</td>\n",
       "    </tr>\n",
       "    <tr>\n",
       "      <th>1993-12-31</th>\n",
       "      <td>9.760204</td>\n",
       "      <td>1993-12-31</td>\n",
       "      <td>9.760204</td>\n",
       "    </tr>\n",
       "    <tr>\n",
       "      <th>1994-12-31</th>\n",
       "      <td>10.067471</td>\n",
       "      <td>1994-12-31</td>\n",
       "      <td>10.067471</td>\n",
       "    </tr>\n",
       "    <tr>\n",
       "      <th>1995-12-31</th>\n",
       "      <td>10.656668</td>\n",
       "      <td>1995-12-31</td>\n",
       "      <td>10.656668</td>\n",
       "    </tr>\n",
       "    <tr>\n",
       "      <th>1996-12-31</th>\n",
       "      <td>9.818723</td>\n",
       "      <td>1996-12-31</td>\n",
       "      <td>9.818723</td>\n",
       "    </tr>\n",
       "    <tr>\n",
       "      <th>1997-12-31</th>\n",
       "      <td>10.064026</td>\n",
       "      <td>1997-12-31</td>\n",
       "      <td>10.064026</td>\n",
       "    </tr>\n",
       "    <tr>\n",
       "      <th>1998-12-31</th>\n",
       "      <td>10.592179</td>\n",
       "      <td>1998-12-31</td>\n",
       "      <td>10.592179</td>\n",
       "    </tr>\n",
       "    <tr>\n",
       "      <th>1999-12-31</th>\n",
       "      <td>10.637408</td>\n",
       "      <td>1999-12-31</td>\n",
       "      <td>10.637408</td>\n",
       "    </tr>\n",
       "    <tr>\n",
       "      <th>2000-12-31</th>\n",
       "      <td>10.426971</td>\n",
       "      <td>2000-12-31</td>\n",
       "      <td>10.426971</td>\n",
       "    </tr>\n",
       "    <tr>\n",
       "      <th>2001-12-31</th>\n",
       "      <td>10.557589</td>\n",
       "      <td>2001-12-31</td>\n",
       "      <td>10.557589</td>\n",
       "    </tr>\n",
       "    <tr>\n",
       "      <th>2002-12-31</th>\n",
       "      <td>10.641713</td>\n",
       "      <td>2002-12-31</td>\n",
       "      <td>10.641713</td>\n",
       "    </tr>\n",
       "    <tr>\n",
       "      <th>2003-12-31</th>\n",
       "      <td>10.440567</td>\n",
       "      <td>2003-12-31</td>\n",
       "      <td>10.440567</td>\n",
       "    </tr>\n",
       "    <tr>\n",
       "      <th>2004-12-31</th>\n",
       "      <td>10.518699</td>\n",
       "      <td>2004-12-31</td>\n",
       "      <td>10.518699</td>\n",
       "    </tr>\n",
       "    <tr>\n",
       "      <th>2005-12-31</th>\n",
       "      <td>10.718543</td>\n",
       "      <td>2005-12-31</td>\n",
       "      <td>10.718543</td>\n",
       "    </tr>\n",
       "    <tr>\n",
       "      <th>2006-12-31</th>\n",
       "      <td>10.633299</td>\n",
       "      <td>2006-12-31</td>\n",
       "      <td>10.633299</td>\n",
       "    </tr>\n",
       "  </tbody>\n",
       "</table>\n",
       "</div>"
      ],
      "text/plain": [
       "            AverageTemperature         ds          y\n",
       "dt                                                  \n",
       "1980-12-31            9.689856 1980-12-31   9.689856\n",
       "1981-12-31           10.366578 1981-12-31  10.366578\n",
       "1982-12-31            9.837958 1982-12-31   9.837958\n",
       "1983-12-31           10.259516 1983-12-31  10.259516\n",
       "1984-12-31            9.724950 1984-12-31   9.724950\n",
       "1985-12-31            9.465436 1985-12-31   9.465436\n",
       "1986-12-31            9.914519 1986-12-31   9.914519\n",
       "1987-12-31            9.726528 1987-12-31   9.726528\n",
       "1988-12-31           10.158058 1988-12-31  10.158058\n",
       "1989-12-31           10.293226 1989-12-31  10.293226\n",
       "1990-12-31           10.579912 1990-12-31  10.579912\n",
       "1991-12-31           10.394824 1991-12-31  10.394824\n",
       "1992-12-31            9.940195 1992-12-31   9.940195\n",
       "1993-12-31            9.760204 1993-12-31   9.760204\n",
       "1994-12-31           10.067471 1994-12-31  10.067471\n",
       "1995-12-31           10.656668 1995-12-31  10.656668\n",
       "1996-12-31            9.818723 1996-12-31   9.818723\n",
       "1997-12-31           10.064026 1997-12-31  10.064026\n",
       "1998-12-31           10.592179 1998-12-31  10.592179\n",
       "1999-12-31           10.637408 1999-12-31  10.637408\n",
       "2000-12-31           10.426971 2000-12-31  10.426971\n",
       "2001-12-31           10.557589 2001-12-31  10.557589\n",
       "2002-12-31           10.641713 2002-12-31  10.641713\n",
       "2003-12-31           10.440567 2003-12-31  10.440567\n",
       "2004-12-31           10.518699 2004-12-31  10.518699\n",
       "2005-12-31           10.718543 2005-12-31  10.718543\n",
       "2006-12-31           10.633299 2006-12-31  10.633299"
      ]
     },
     "execution_count": 97,
     "metadata": {},
     "output_type": "execute_result"
    }
   ],
   "source": [
    "traindf"
   ]
  },
  {
   "cell_type": "code",
   "execution_count": 98,
   "metadata": {},
   "outputs": [],
   "source": [
    "# Apply Box-Cox Transform to value column and assign to new column y\n",
    "traindf['y'], lam = stats.boxcox(traindf['AverageTemperature'])"
   ]
  },
  {
   "cell_type": "code",
   "execution_count": 99,
   "metadata": {},
   "outputs": [
    {
     "data": {
      "text/html": [
       "<div>\n",
       "<style scoped>\n",
       "    .dataframe tbody tr th:only-of-type {\n",
       "        vertical-align: middle;\n",
       "    }\n",
       "\n",
       "    .dataframe tbody tr th {\n",
       "        vertical-align: top;\n",
       "    }\n",
       "\n",
       "    .dataframe thead th {\n",
       "        text-align: right;\n",
       "    }\n",
       "</style>\n",
       "<table border=\"1\" class=\"dataframe\">\n",
       "  <thead>\n",
       "    <tr style=\"text-align: right;\">\n",
       "      <th></th>\n",
       "      <th>lb_stat</th>\n",
       "      <th>lb_pvalue</th>\n",
       "    </tr>\n",
       "  </thead>\n",
       "  <tbody>\n",
       "    <tr>\n",
       "      <th>1</th>\n",
       "      <td>5.902979</td>\n",
       "      <td>0.015115</td>\n",
       "    </tr>\n",
       "  </tbody>\n",
       "</table>\n",
       "</div>"
      ],
      "text/plain": [
       "    lb_stat  lb_pvalue\n",
       "1  5.902979   0.015115"
      ]
     },
     "execution_count": 99,
     "metadata": {},
     "output_type": "execute_result"
    }
   ],
   "source": [
    "acorr_ljungbox(traindf['y'], lags=[1], return_df=True)"
   ]
  },
  {
   "cell_type": "code",
   "execution_count": 100,
   "metadata": {},
   "outputs": [],
   "source": [
    "m = fbprophet.Prophet()"
   ]
  },
  {
   "cell_type": "code",
   "execution_count": 101,
   "metadata": {},
   "outputs": [
    {
     "name": "stderr",
     "output_type": "stream",
     "text": [
      "INFO:fbprophet:Disabling weekly seasonality. Run prophet with weekly_seasonality=True to override this.\n",
      "INFO:fbprophet:Disabling daily seasonality. Run prophet with daily_seasonality=True to override this.\n",
      "INFO:fbprophet:n_changepoints greater than number of observations. Using 20.\n"
     ]
    },
    {
     "data": {
      "text/plain": [
       "<fbprophet.forecaster.Prophet at 0x2cfa882bbb0>"
      ]
     },
     "execution_count": 101,
     "metadata": {},
     "output_type": "execute_result"
    }
   ],
   "source": [
    "m.fit(traindf)"
   ]
  },
  {
   "cell_type": "code",
   "execution_count": 102,
   "metadata": {},
   "outputs": [],
   "source": [
    "future = m.make_future_dataframe(freq='A', periods=7)"
   ]
  },
  {
   "cell_type": "code",
   "execution_count": 103,
   "metadata": {},
   "outputs": [],
   "source": [
    "forecastFB = m.predict(future)"
   ]
  },
  {
   "cell_type": "code",
   "execution_count": 104,
   "metadata": {},
   "outputs": [
    {
     "data": {
      "image/png": "[encoded data removed]",
      "text/plain": [
       "<Figure size 720x432 with 1 Axes>"
      ]
     },
     "execution_count": 104,
     "metadata": {},
     "output_type": "execute_result"
    },
    {
     "data": {
      "image/png": "[encoded data removed]",
      "text/plain": [
       "<Figure size 720x432 with 1 Axes>"
      ]
     },
     "metadata": {},
     "output_type": "display_data"
    }
   ],
   "source": [
    "m.plot(forecastFB)"
   ]
  },
  {
   "cell_type": "code",
   "execution_count": 105,
   "metadata": {},
   "outputs": [
    {
     "data": {
      "image/png": "[encoded data removed]",
      "text/plain": [
       "<Figure size 648x432 with 2 Axes>"
      ]
     },
     "execution_count": 105,
     "metadata": {},
     "output_type": "execute_result"
    },
    {
     "data": {
      "image/png": "[encoded data removed]",
      "text/plain": [
       "<Figure size 648x432 with 2 Axes>"
      ]
     },
     "metadata": {},
     "output_type": "display_data"
    }
   ],
   "source": [
    "m.plot_components(forecastFB)"
   ]
  },
  {
   "cell_type": "code",
   "execution_count": 106,
   "metadata": {},
   "outputs": [],
   "source": [
    "# Apply inverse Box-Cox transform to specific forecast columns\n",
    "forecastFB[['yhat','yhat_upper','yhat_lower']] = forecastFB[['yhat','yhat_upper','yhat_lower']].apply(lambda x: inv_boxcox(x, lam))"
   ]
  },
  {
   "cell_type": "code",
   "execution_count": 107,
   "metadata": {},
   "outputs": [
    {
     "data": {
      "text/html": [
       "<div>\n",
       "<style scoped>\n",
       "    .dataframe tbody tr th:only-of-type {\n",
       "        vertical-align: middle;\n",
       "    }\n",
       "\n",
       "    .dataframe tbody tr th {\n",
       "        vertical-align: top;\n",
       "    }\n",
       "\n",
       "    .dataframe thead th {\n",
       "        text-align: right;\n",
       "    }\n",
       "</style>\n",
       "<table border=\"1\" class=\"dataframe\">\n",
       "  <thead>\n",
       "    <tr style=\"text-align: right;\">\n",
       "      <th></th>\n",
       "      <th>ds</th>\n",
       "      <th>trend</th>\n",
       "      <th>yhat_lower</th>\n",
       "      <th>yhat_upper</th>\n",
       "      <th>trend_lower</th>\n",
       "      <th>trend_upper</th>\n",
       "      <th>additive_terms</th>\n",
       "      <th>additive_terms_lower</th>\n",
       "      <th>additive_terms_upper</th>\n",
       "      <th>yearly</th>\n",
       "      <th>yearly_lower</th>\n",
       "      <th>yearly_upper</th>\n",
       "      <th>multiplicative_terms</th>\n",
       "      <th>multiplicative_terms_lower</th>\n",
       "      <th>multiplicative_terms_upper</th>\n",
       "      <th>yhat</th>\n",
       "    </tr>\n",
       "  </thead>\n",
       "  <tbody>\n",
       "    <tr>\n",
       "      <th>0</th>\n",
       "      <td>1980-12-31</td>\n",
       "      <td>-4.761826e+05</td>\n",
       "      <td>9.114776</td>\n",
       "      <td>10.010841</td>\n",
       "      <td>-4.761826e+05</td>\n",
       "      <td>-4.761826e+05</td>\n",
       "      <td>2.707632e+06</td>\n",
       "      <td>2.707632e+06</td>\n",
       "      <td>2.707632e+06</td>\n",
       "      <td>2.707632e+06</td>\n",
       "      <td>2.707632e+06</td>\n",
       "      <td>2.707632e+06</td>\n",
       "      <td>0.0</td>\n",
       "      <td>0.0</td>\n",
       "      <td>0.0</td>\n",
       "      <td>9.625876</td>\n",
       "    </tr>\n",
       "    <tr>\n",
       "      <th>1</th>\n",
       "      <td>1981-12-31</td>\n",
       "      <td>-4.008348e+05</td>\n",
       "      <td>9.339402</td>\n",
       "      <td>10.165395</td>\n",
       "      <td>-4.008348e+05</td>\n",
       "      <td>-4.008348e+05</td>\n",
       "      <td>2.957704e+06</td>\n",
       "      <td>2.957704e+06</td>\n",
       "      <td>2.957704e+06</td>\n",
       "      <td>2.957704e+06</td>\n",
       "      <td>2.957704e+06</td>\n",
       "      <td>2.957704e+06</td>\n",
       "      <td>0.0</td>\n",
       "      <td>0.0</td>\n",
       "      <td>0.0</td>\n",
       "      <td>9.806182</td>\n",
       "    </tr>\n",
       "    <tr>\n",
       "      <th>2</th>\n",
       "      <td>1982-12-31</td>\n",
       "      <td>-3.254870e+05</td>\n",
       "      <td>9.523440</td>\n",
       "      <td>10.272040</td>\n",
       "      <td>-3.254870e+05</td>\n",
       "      <td>-3.254870e+05</td>\n",
       "      <td>3.194968e+06</td>\n",
       "      <td>3.194968e+06</td>\n",
       "      <td>3.194968e+06</td>\n",
       "      <td>3.194968e+06</td>\n",
       "      <td>3.194968e+06</td>\n",
       "      <td>3.194968e+06</td>\n",
       "      <td>0.0</td>\n",
       "      <td>0.0</td>\n",
       "      <td>0.0</td>\n",
       "      <td>9.961599</td>\n",
       "    </tr>\n",
       "    <tr>\n",
       "      <th>3</th>\n",
       "      <td>1983-12-31</td>\n",
       "      <td>-2.501392e+05</td>\n",
       "      <td>9.741845</td>\n",
       "      <td>10.420870</td>\n",
       "      <td>-2.501392e+05</td>\n",
       "      <td>-2.501392e+05</td>\n",
       "      <td>3.419134e+06</td>\n",
       "      <td>3.419134e+06</td>\n",
       "      <td>3.419134e+06</td>\n",
       "      <td>3.419134e+06</td>\n",
       "      <td>3.419134e+06</td>\n",
       "      <td>3.419134e+06</td>\n",
       "      <td>0.0</td>\n",
       "      <td>0.0</td>\n",
       "      <td>0.0</td>\n",
       "      <td>10.097342</td>\n",
       "    </tr>\n",
       "    <tr>\n",
       "      <th>4</th>\n",
       "      <td>1984-12-31</td>\n",
       "      <td>-1.745849e+05</td>\n",
       "      <td>9.303400</td>\n",
       "      <td>10.158112</td>\n",
       "      <td>-1.745849e+05</td>\n",
       "      <td>-1.745849e+05</td>\n",
       "      <td>2.707632e+06</td>\n",
       "      <td>2.707632e+06</td>\n",
       "      <td>2.707632e+06</td>\n",
       "      <td>2.707632e+06</td>\n",
       "      <td>2.707632e+06</td>\n",
       "      <td>2.707632e+06</td>\n",
       "      <td>0.0</td>\n",
       "      <td>0.0</td>\n",
       "      <td>0.0</td>\n",
       "      <td>9.793676</td>\n",
       "    </tr>\n",
       "    <tr>\n",
       "      <th>5</th>\n",
       "      <td>1985-12-31</td>\n",
       "      <td>-9.923708e+04</td>\n",
       "      <td>9.546789</td>\n",
       "      <td>10.305605</td>\n",
       "      <td>-9.923708e+04</td>\n",
       "      <td>-9.923708e+04</td>\n",
       "      <td>2.957704e+06</td>\n",
       "      <td>2.957704e+06</td>\n",
       "      <td>2.957704e+06</td>\n",
       "      <td>2.957704e+06</td>\n",
       "      <td>2.957704e+06</td>\n",
       "      <td>2.957704e+06</td>\n",
       "      <td>0.0</td>\n",
       "      <td>0.0</td>\n",
       "      <td>0.0</td>\n",
       "      <td>9.956377</td>\n",
       "    </tr>\n",
       "    <tr>\n",
       "      <th>6</th>\n",
       "      <td>1986-12-31</td>\n",
       "      <td>-2.388926e+04</td>\n",
       "      <td>9.713534</td>\n",
       "      <td>10.421089</td>\n",
       "      <td>-2.388926e+04</td>\n",
       "      <td>-2.388926e+04</td>\n",
       "      <td>3.194968e+06</td>\n",
       "      <td>3.194968e+06</td>\n",
       "      <td>3.194968e+06</td>\n",
       "      <td>3.194968e+06</td>\n",
       "      <td>3.194968e+06</td>\n",
       "      <td>3.194968e+06</td>\n",
       "      <td>0.0</td>\n",
       "      <td>0.0</td>\n",
       "      <td>0.0</td>\n",
       "      <td>10.098247</td>\n",
       "    </tr>\n",
       "    <tr>\n",
       "      <th>7</th>\n",
       "      <td>1987-12-31</td>\n",
       "      <td>5.145856e+04</td>\n",
       "      <td>9.889956</td>\n",
       "      <td>10.520894</td>\n",
       "      <td>5.145856e+04</td>\n",
       "      <td>5.145856e+04</td>\n",
       "      <td>3.419134e+06</td>\n",
       "      <td>3.419134e+06</td>\n",
       "      <td>3.419134e+06</td>\n",
       "      <td>3.419134e+06</td>\n",
       "      <td>3.419134e+06</td>\n",
       "      <td>3.419134e+06</td>\n",
       "      <td>0.0</td>\n",
       "      <td>0.0</td>\n",
       "      <td>0.0</td>\n",
       "      <td>10.223260</td>\n",
       "    </tr>\n",
       "    <tr>\n",
       "      <th>8</th>\n",
       "      <td>1988-12-31</td>\n",
       "      <td>1.270128e+05</td>\n",
       "      <td>9.518683</td>\n",
       "      <td>10.292201</td>\n",
       "      <td>1.270128e+05</td>\n",
       "      <td>1.270128e+05</td>\n",
       "      <td>2.707632e+06</td>\n",
       "      <td>2.707632e+06</td>\n",
       "      <td>2.707632e+06</td>\n",
       "      <td>2.707632e+06</td>\n",
       "      <td>2.707632e+06</td>\n",
       "      <td>2.707632e+06</td>\n",
       "      <td>0.0</td>\n",
       "      <td>0.0</td>\n",
       "      <td>0.0</td>\n",
       "      <td>9.945025</td>\n",
       "    </tr>\n",
       "    <tr>\n",
       "      <th>9</th>\n",
       "      <td>1989-12-31</td>\n",
       "      <td>2.023606e+05</td>\n",
       "      <td>9.715072</td>\n",
       "      <td>10.392271</td>\n",
       "      <td>2.023606e+05</td>\n",
       "      <td>2.023606e+05</td>\n",
       "      <td>2.957704e+06</td>\n",
       "      <td>2.957704e+06</td>\n",
       "      <td>2.957704e+06</td>\n",
       "      <td>2.957704e+06</td>\n",
       "      <td>2.957704e+06</td>\n",
       "      <td>2.957704e+06</td>\n",
       "      <td>0.0</td>\n",
       "      <td>0.0</td>\n",
       "      <td>0.0</td>\n",
       "      <td>10.093458</td>\n",
       "    </tr>\n",
       "    <tr>\n",
       "      <th>10</th>\n",
       "      <td>1990-12-31</td>\n",
       "      <td>2.777085e+05</td>\n",
       "      <td>9.875865</td>\n",
       "      <td>10.513764</td>\n",
       "      <td>2.777085e+05</td>\n",
       "      <td>2.777085e+05</td>\n",
       "      <td>3.194968e+06</td>\n",
       "      <td>3.194968e+06</td>\n",
       "      <td>3.194968e+06</td>\n",
       "      <td>3.194968e+06</td>\n",
       "      <td>3.194968e+06</td>\n",
       "      <td>3.194968e+06</td>\n",
       "      <td>0.0</td>\n",
       "      <td>0.0</td>\n",
       "      <td>0.0</td>\n",
       "      <td>10.224096</td>\n",
       "    </tr>\n",
       "    <tr>\n",
       "      <th>11</th>\n",
       "      <td>1991-12-31</td>\n",
       "      <td>3.530563e+05</td>\n",
       "      <td>10.011279</td>\n",
       "      <td>10.624469</td>\n",
       "      <td>3.530563e+05</td>\n",
       "      <td>3.530563e+05</td>\n",
       "      <td>3.419134e+06</td>\n",
       "      <td>3.419134e+06</td>\n",
       "      <td>3.419134e+06</td>\n",
       "      <td>3.419134e+06</td>\n",
       "      <td>3.419134e+06</td>\n",
       "      <td>3.419134e+06</td>\n",
       "      <td>0.0</td>\n",
       "      <td>0.0</td>\n",
       "      <td>0.0</td>\n",
       "      <td>10.340057</td>\n",
       "    </tr>\n",
       "    <tr>\n",
       "      <th>12</th>\n",
       "      <td>1992-12-31</td>\n",
       "      <td>4.286105e+05</td>\n",
       "      <td>9.740053</td>\n",
       "      <td>10.399335</td>\n",
       "      <td>4.286105e+05</td>\n",
       "      <td>4.286105e+05</td>\n",
       "      <td>2.707632e+06</td>\n",
       "      <td>2.707632e+06</td>\n",
       "      <td>2.707632e+06</td>\n",
       "      <td>2.707632e+06</td>\n",
       "      <td>2.707632e+06</td>\n",
       "      <td>2.707632e+06</td>\n",
       "      <td>0.0</td>\n",
       "      <td>0.0</td>\n",
       "      <td>0.0</td>\n",
       "      <td>10.083051</td>\n",
       "    </tr>\n",
       "    <tr>\n",
       "      <th>13</th>\n",
       "      <td>1993-12-31</td>\n",
       "      <td>5.039584e+05</td>\n",
       "      <td>9.855135</td>\n",
       "      <td>10.510343</td>\n",
       "      <td>5.039584e+05</td>\n",
       "      <td>5.039584e+05</td>\n",
       "      <td>2.957704e+06</td>\n",
       "      <td>2.957704e+06</td>\n",
       "      <td>2.957704e+06</td>\n",
       "      <td>2.957704e+06</td>\n",
       "      <td>2.957704e+06</td>\n",
       "      <td>2.957704e+06</td>\n",
       "      <td>0.0</td>\n",
       "      <td>0.0</td>\n",
       "      <td>0.0</td>\n",
       "      <td>10.219670</td>\n",
       "    </tr>\n",
       "    <tr>\n",
       "      <th>14</th>\n",
       "      <td>1994-12-31</td>\n",
       "      <td>5.793062e+05</td>\n",
       "      <td>10.021258</td>\n",
       "      <td>10.611219</td>\n",
       "      <td>5.793062e+05</td>\n",
       "      <td>5.793062e+05</td>\n",
       "      <td>3.194968e+06</td>\n",
       "      <td>3.194968e+06</td>\n",
       "      <td>3.194968e+06</td>\n",
       "      <td>3.194968e+06</td>\n",
       "      <td>3.194968e+06</td>\n",
       "      <td>3.194968e+06</td>\n",
       "      <td>0.0</td>\n",
       "      <td>0.0</td>\n",
       "      <td>0.0</td>\n",
       "      <td>10.340836</td>\n",
       "    </tr>\n",
       "    <tr>\n",
       "      <th>15</th>\n",
       "      <td>1995-12-31</td>\n",
       "      <td>6.546540e+05</td>\n",
       "      <td>10.144554</td>\n",
       "      <td>10.679026</td>\n",
       "      <td>6.546540e+05</td>\n",
       "      <td>6.546540e+05</td>\n",
       "      <td>3.419134e+06</td>\n",
       "      <td>3.419134e+06</td>\n",
       "      <td>3.419134e+06</td>\n",
       "      <td>3.419134e+06</td>\n",
       "      <td>3.419134e+06</td>\n",
       "      <td>3.419134e+06</td>\n",
       "      <td>0.0</td>\n",
       "      <td>0.0</td>\n",
       "      <td>0.0</td>\n",
       "      <td>10.449050</td>\n",
       "    </tr>\n",
       "    <tr>\n",
       "      <th>16</th>\n",
       "      <td>1996-12-31</td>\n",
       "      <td>7.302083e+05</td>\n",
       "      <td>9.862431</td>\n",
       "      <td>10.479039</td>\n",
       "      <td>7.302083e+05</td>\n",
       "      <td>7.302083e+05</td>\n",
       "      <td>2.707632e+06</td>\n",
       "      <td>2.707632e+06</td>\n",
       "      <td>2.707632e+06</td>\n",
       "      <td>2.707632e+06</td>\n",
       "      <td>2.707632e+06</td>\n",
       "      <td>2.707632e+06</td>\n",
       "      <td>0.0</td>\n",
       "      <td>0.0</td>\n",
       "      <td>0.0</td>\n",
       "      <td>10.210054</td>\n",
       "    </tr>\n",
       "    <tr>\n",
       "      <th>17</th>\n",
       "      <td>1997-12-31</td>\n",
       "      <td>8.055561e+05</td>\n",
       "      <td>10.030471</td>\n",
       "      <td>10.590082</td>\n",
       "      <td>8.055561e+05</td>\n",
       "      <td>8.055561e+05</td>\n",
       "      <td>2.957704e+06</td>\n",
       "      <td>2.957704e+06</td>\n",
       "      <td>2.957704e+06</td>\n",
       "      <td>2.957704e+06</td>\n",
       "      <td>2.957704e+06</td>\n",
       "      <td>2.957704e+06</td>\n",
       "      <td>0.0</td>\n",
       "      <td>0.0</td>\n",
       "      <td>0.0</td>\n",
       "      <td>10.336717</td>\n",
       "    </tr>\n",
       "    <tr>\n",
       "      <th>18</th>\n",
       "      <td>1998-12-31</td>\n",
       "      <td>8.809039e+05</td>\n",
       "      <td>10.174808</td>\n",
       "      <td>10.705885</td>\n",
       "      <td>8.809039e+05</td>\n",
       "      <td>8.809039e+05</td>\n",
       "      <td>3.194968e+06</td>\n",
       "      <td>3.194968e+06</td>\n",
       "      <td>3.194968e+06</td>\n",
       "      <td>3.194968e+06</td>\n",
       "      <td>3.194968e+06</td>\n",
       "      <td>3.194968e+06</td>\n",
       "      <td>0.0</td>\n",
       "      <td>0.0</td>\n",
       "      <td>0.0</td>\n",
       "      <td>10.449779</td>\n",
       "    </tr>\n",
       "    <tr>\n",
       "      <th>19</th>\n",
       "      <td>1999-12-31</td>\n",
       "      <td>9.562518e+05</td>\n",
       "      <td>10.277875</td>\n",
       "      <td>10.797404</td>\n",
       "      <td>9.562518e+05</td>\n",
       "      <td>9.562518e+05</td>\n",
       "      <td>3.419134e+06</td>\n",
       "      <td>3.419134e+06</td>\n",
       "      <td>3.419134e+06</td>\n",
       "      <td>3.419134e+06</td>\n",
       "      <td>3.419134e+06</td>\n",
       "      <td>3.419134e+06</td>\n",
       "      <td>0.0</td>\n",
       "      <td>0.0</td>\n",
       "      <td>0.0</td>\n",
       "      <td>10.551283</td>\n",
       "    </tr>\n",
       "    <tr>\n",
       "      <th>20</th>\n",
       "      <td>2000-12-31</td>\n",
       "      <td>1.031806e+06</td>\n",
       "      <td>9.983158</td>\n",
       "      <td>10.582533</td>\n",
       "      <td>1.031806e+06</td>\n",
       "      <td>1.031806e+06</td>\n",
       "      <td>2.707632e+06</td>\n",
       "      <td>2.707632e+06</td>\n",
       "      <td>2.707632e+06</td>\n",
       "      <td>2.707632e+06</td>\n",
       "      <td>2.707632e+06</td>\n",
       "      <td>2.707632e+06</td>\n",
       "      <td>0.0</td>\n",
       "      <td>0.0</td>\n",
       "      <td>0.0</td>\n",
       "      <td>10.327772</td>\n",
       "    </tr>\n",
       "    <tr>\n",
       "      <th>21</th>\n",
       "      <td>2001-12-31</td>\n",
       "      <td>1.107154e+06</td>\n",
       "      <td>10.147135</td>\n",
       "      <td>10.700190</td>\n",
       "      <td>1.107154e+06</td>\n",
       "      <td>1.107154e+06</td>\n",
       "      <td>2.957704e+06</td>\n",
       "      <td>2.957704e+06</td>\n",
       "      <td>2.957704e+06</td>\n",
       "      <td>2.957704e+06</td>\n",
       "      <td>2.957704e+06</td>\n",
       "      <td>2.957704e+06</td>\n",
       "      <td>0.0</td>\n",
       "      <td>0.0</td>\n",
       "      <td>0.0</td>\n",
       "      <td>10.445925</td>\n",
       "    </tr>\n",
       "    <tr>\n",
       "      <th>22</th>\n",
       "      <td>2002-12-31</td>\n",
       "      <td>1.182502e+06</td>\n",
       "      <td>10.287756</td>\n",
       "      <td>10.789252</td>\n",
       "      <td>1.182502e+06</td>\n",
       "      <td>1.182502e+06</td>\n",
       "      <td>3.194968e+06</td>\n",
       "      <td>3.194968e+06</td>\n",
       "      <td>3.194968e+06</td>\n",
       "      <td>3.194968e+06</td>\n",
       "      <td>3.194968e+06</td>\n",
       "      <td>3.194968e+06</td>\n",
       "      <td>0.0</td>\n",
       "      <td>0.0</td>\n",
       "      <td>0.0</td>\n",
       "      <td>10.551968</td>\n",
       "    </tr>\n",
       "    <tr>\n",
       "      <th>23</th>\n",
       "      <td>2003-12-31</td>\n",
       "      <td>1.257849e+06</td>\n",
       "      <td>10.379619</td>\n",
       "      <td>10.871924</td>\n",
       "      <td>1.257849e+06</td>\n",
       "      <td>1.257849e+06</td>\n",
       "      <td>3.419134e+06</td>\n",
       "      <td>3.419134e+06</td>\n",
       "      <td>3.419134e+06</td>\n",
       "      <td>3.419134e+06</td>\n",
       "      <td>3.419134e+06</td>\n",
       "      <td>3.419134e+06</td>\n",
       "      <td>0.0</td>\n",
       "      <td>0.0</td>\n",
       "      <td>0.0</td>\n",
       "      <td>10.647601</td>\n",
       "    </tr>\n",
       "    <tr>\n",
       "      <th>24</th>\n",
       "      <td>2004-12-31</td>\n",
       "      <td>1.333404e+06</td>\n",
       "      <td>10.161891</td>\n",
       "      <td>10.688331</td>\n",
       "      <td>1.333404e+06</td>\n",
       "      <td>1.333404e+06</td>\n",
       "      <td>2.707632e+06</td>\n",
       "      <td>2.707632e+06</td>\n",
       "      <td>2.707632e+06</td>\n",
       "      <td>2.707632e+06</td>\n",
       "      <td>2.707632e+06</td>\n",
       "      <td>2.707632e+06</td>\n",
       "      <td>0.0</td>\n",
       "      <td>0.0</td>\n",
       "      <td>0.0</td>\n",
       "      <td>10.437558</td>\n",
       "    </tr>\n",
       "    <tr>\n",
       "      <th>25</th>\n",
       "      <td>2005-12-31</td>\n",
       "      <td>1.408752e+06</td>\n",
       "      <td>10.286406</td>\n",
       "      <td>10.796304</td>\n",
       "      <td>1.408752e+06</td>\n",
       "      <td>1.408752e+06</td>\n",
       "      <td>2.957704e+06</td>\n",
       "      <td>2.957704e+06</td>\n",
       "      <td>2.957704e+06</td>\n",
       "      <td>2.957704e+06</td>\n",
       "      <td>2.957704e+06</td>\n",
       "      <td>2.957704e+06</td>\n",
       "      <td>0.0</td>\n",
       "      <td>0.0</td>\n",
       "      <td>0.0</td>\n",
       "      <td>10.548345</td>\n",
       "    </tr>\n",
       "    <tr>\n",
       "      <th>26</th>\n",
       "      <td>2006-12-31</td>\n",
       "      <td>1.484099e+06</td>\n",
       "      <td>10.382286</td>\n",
       "      <td>10.869808</td>\n",
       "      <td>1.484099e+06</td>\n",
       "      <td>1.484099e+06</td>\n",
       "      <td>3.194968e+06</td>\n",
       "      <td>3.194968e+06</td>\n",
       "      <td>3.194968e+06</td>\n",
       "      <td>3.194968e+06</td>\n",
       "      <td>3.194968e+06</td>\n",
       "      <td>3.194968e+06</td>\n",
       "      <td>0.0</td>\n",
       "      <td>0.0</td>\n",
       "      <td>0.0</td>\n",
       "      <td>10.648248</td>\n",
       "    </tr>\n",
       "    <tr>\n",
       "      <th>27</th>\n",
       "      <td>2007-12-31</td>\n",
       "      <td>1.559447e+06</td>\n",
       "      <td>10.490011</td>\n",
       "      <td>10.954789</td>\n",
       "      <td>1.559447e+06</td>\n",
       "      <td>1.559447e+06</td>\n",
       "      <td>3.419134e+06</td>\n",
       "      <td>3.419134e+06</td>\n",
       "      <td>3.419134e+06</td>\n",
       "      <td>3.419134e+06</td>\n",
       "      <td>3.419134e+06</td>\n",
       "      <td>3.419134e+06</td>\n",
       "      <td>0.0</td>\n",
       "      <td>0.0</td>\n",
       "      <td>0.0</td>\n",
       "      <td>10.738697</td>\n",
       "    </tr>\n",
       "    <tr>\n",
       "      <th>28</th>\n",
       "      <td>2008-12-31</td>\n",
       "      <td>1.635001e+06</td>\n",
       "      <td>10.264282</td>\n",
       "      <td>10.786465</td>\n",
       "      <td>1.635001e+06</td>\n",
       "      <td>1.635001e+06</td>\n",
       "      <td>2.707632e+06</td>\n",
       "      <td>2.707632e+06</td>\n",
       "      <td>2.707632e+06</td>\n",
       "      <td>2.707632e+06</td>\n",
       "      <td>2.707632e+06</td>\n",
       "      <td>2.707632e+06</td>\n",
       "      <td>0.0</td>\n",
       "      <td>0.0</td>\n",
       "      <td>0.0</td>\n",
       "      <td>10.540481</td>\n",
       "    </tr>\n",
       "    <tr>\n",
       "      <th>29</th>\n",
       "      <td>2009-12-31</td>\n",
       "      <td>1.710349e+06</td>\n",
       "      <td>10.386718</td>\n",
       "      <td>10.867459</td>\n",
       "      <td>1.710349e+06</td>\n",
       "      <td>1.710349e+06</td>\n",
       "      <td>2.957704e+06</td>\n",
       "      <td>2.957704e+06</td>\n",
       "      <td>2.957704e+06</td>\n",
       "      <td>2.957704e+06</td>\n",
       "      <td>2.957704e+06</td>\n",
       "      <td>2.957704e+06</td>\n",
       "      <td>0.0</td>\n",
       "      <td>0.0</td>\n",
       "      <td>0.0</td>\n",
       "      <td>10.644828</td>\n",
       "    </tr>\n",
       "    <tr>\n",
       "      <th>30</th>\n",
       "      <td>2010-12-31</td>\n",
       "      <td>1.785697e+06</td>\n",
       "      <td>10.516373</td>\n",
       "      <td>10.952585</td>\n",
       "      <td>1.785697e+06</td>\n",
       "      <td>1.785697e+06</td>\n",
       "      <td>3.194968e+06</td>\n",
       "      <td>3.194968e+06</td>\n",
       "      <td>3.194968e+06</td>\n",
       "      <td>3.194968e+06</td>\n",
       "      <td>3.194968e+06</td>\n",
       "      <td>3.194968e+06</td>\n",
       "      <td>0.0</td>\n",
       "      <td>0.0</td>\n",
       "      <td>0.0</td>\n",
       "      <td>10.739309</td>\n",
       "    </tr>\n",
       "    <tr>\n",
       "      <th>31</th>\n",
       "      <td>2011-12-31</td>\n",
       "      <td>1.861045e+06</td>\n",
       "      <td>10.588098</td>\n",
       "      <td>11.004360</td>\n",
       "      <td>1.861045e+06</td>\n",
       "      <td>1.861045e+06</td>\n",
       "      <td>3.419134e+06</td>\n",
       "      <td>3.419134e+06</td>\n",
       "      <td>3.419134e+06</td>\n",
       "      <td>3.419134e+06</td>\n",
       "      <td>3.419134e+06</td>\n",
       "      <td>3.419134e+06</td>\n",
       "      <td>0.0</td>\n",
       "      <td>0.0</td>\n",
       "      <td>0.0</td>\n",
       "      <td>10.825144</td>\n",
       "    </tr>\n",
       "    <tr>\n",
       "      <th>32</th>\n",
       "      <td>2012-12-31</td>\n",
       "      <td>1.936599e+06</td>\n",
       "      <td>10.375407</td>\n",
       "      <td>10.851139</td>\n",
       "      <td>1.936599e+06</td>\n",
       "      <td>1.936599e+06</td>\n",
       "      <td>2.707632e+06</td>\n",
       "      <td>2.707632e+06</td>\n",
       "      <td>2.707632e+06</td>\n",
       "      <td>2.707632e+06</td>\n",
       "      <td>2.707632e+06</td>\n",
       "      <td>2.707632e+06</td>\n",
       "      <td>0.0</td>\n",
       "      <td>0.0</td>\n",
       "      <td>0.0</td>\n",
       "      <td>10.637406</td>\n",
       "    </tr>\n",
       "    <tr>\n",
       "      <th>33</th>\n",
       "      <td>2013-12-31</td>\n",
       "      <td>2.011947e+06</td>\n",
       "      <td>10.510943</td>\n",
       "      <td>10.953090</td>\n",
       "      <td>2.011947e+06</td>\n",
       "      <td>2.011947e+06</td>\n",
       "      <td>2.957704e+06</td>\n",
       "      <td>2.957704e+06</td>\n",
       "      <td>2.957704e+06</td>\n",
       "      <td>2.957704e+06</td>\n",
       "      <td>2.957704e+06</td>\n",
       "      <td>2.957704e+06</td>\n",
       "      <td>0.0</td>\n",
       "      <td>0.0</td>\n",
       "      <td>0.0</td>\n",
       "      <td>10.736069</td>\n",
       "    </tr>\n",
       "  </tbody>\n",
       "</table>\n",
       "</div>"
      ],
      "text/plain": [
       "           ds         trend  yhat_lower  yhat_upper   trend_lower  \\\n",
       "0  1980-12-31 -4.761826e+05    9.114776   10.010841 -4.761826e+05   \n",
       "1  1981-12-31 -4.008348e+05    9.339402   10.165395 -4.008348e+05   \n",
       "2  1982-12-31 -3.254870e+05    9.523440   10.272040 -3.254870e+05   \n",
       "3  1983-12-31 -2.501392e+05    9.741845   10.420870 -2.501392e+05   \n",
       "4  1984-12-31 -1.745849e+05    9.303400   10.158112 -1.745849e+05   \n",
       "5  1985-12-31 -9.923708e+04    9.546789   10.305605 -9.923708e+04   \n",
       "6  1986-12-31 -2.388926e+04    9.713534   10.421089 -2.388926e+04   \n",
       "7  1987-12-31  5.145856e+04    9.889956   10.520894  5.145856e+04   \n",
       "8  1988-12-31  1.270128e+05    9.518683   10.292201  1.270128e+05   \n",
       "9  1989-12-31  2.023606e+05    9.715072   10.392271  2.023606e+05   \n",
       "10 1990-12-31  2.777085e+05    9.875865   10.513764  2.777085e+05   \n",
       "11 1991-12-31  3.530563e+05   10.011279   10.624469  3.530563e+05   \n",
       "12 1992-12-31  4.286105e+05    9.740053   10.399335  4.286105e+05   \n",
       "13 1993-12-31  5.039584e+05    9.855135   10.510343  5.039584e+05   \n",
       "14 1994-12-31  5.793062e+05   10.021258   10.611219  5.793062e+05   \n",
       "15 1995-12-31  6.546540e+05   10.144554   10.679026  6.546540e+05   \n",
       "16 1996-12-31  7.302083e+05    9.862431   10.479039  7.302083e+05   \n",
       "17 1997-12-31  8.055561e+05   10.030471   10.590082  8.055561e+05   \n",
       "18 1998-12-31  8.809039e+05   10.174808   10.705885  8.809039e+05   \n",
       "19 1999-12-31  9.562518e+05   10.277875   10.797404  9.562518e+05   \n",
       "20 2000-12-31  1.031806e+06    9.983158   10.582533  1.031806e+06   \n",
       "21 2001-12-31  1.107154e+06   10.147135   10.700190  1.107154e+06   \n",
       "22 2002-12-31  1.182502e+06   10.287756   10.789252  1.182502e+06   \n",
       "23 2003-12-31  1.257849e+06   10.379619   10.871924  1.257849e+06   \n",
       "24 2004-12-31  1.333404e+06   10.161891   10.688331  1.333404e+06   \n",
       "25 2005-12-31  1.408752e+06   10.286406   10.796304  1.408752e+06   \n",
       "26 2006-12-31  1.484099e+06   10.382286   10.869808  1.484099e+06   \n",
       "27 2007-12-31  1.559447e+06   10.490011   10.954789  1.559447e+06   \n",
       "28 2008-12-31  1.635001e+06   10.264282   10.786465  1.635001e+06   \n",
       "29 2009-12-31  1.710349e+06   10.386718   10.867459  1.710349e+06   \n",
       "30 2010-12-31  1.785697e+06   10.516373   10.952585  1.785697e+06   \n",
       "31 2011-12-31  1.861045e+06   10.588098   11.004360  1.861045e+06   \n",
       "32 2012-12-31  1.936599e+06   10.375407   10.851139  1.936599e+06   \n",
       "33 2013-12-31  2.011947e+06   10.510943   10.953090  2.011947e+06   \n",
       "\n",
       "     trend_upper  additive_terms  additive_terms_lower  additive_terms_upper  \\\n",
       "0  -4.761826e+05    2.707632e+06          2.707632e+06          2.707632e+06   \n",
       "1  -4.008348e+05    2.957704e+06          2.957704e+06          2.957704e+06   \n",
       "2  -3.254870e+05    3.194968e+06          3.194968e+06          3.194968e+06   \n",
       "3  -2.501392e+05    3.419134e+06          3.419134e+06          3.419134e+06   \n",
       "4  -1.745849e+05    2.707632e+06          2.707632e+06          2.707632e+06   \n",
       "5  -9.923708e+04    2.957704e+06          2.957704e+06          2.957704e+06   \n",
       "6  -2.388926e+04    3.194968e+06          3.194968e+06          3.194968e+06   \n",
       "7   5.145856e+04    3.419134e+06          3.419134e+06          3.419134e+06   \n",
       "8   1.270128e+05    2.707632e+06          2.707632e+06          2.707632e+06   \n",
       "9   2.023606e+05    2.957704e+06          2.957704e+06          2.957704e+06   \n",
       "10  2.777085e+05    3.194968e+06          3.194968e+06          3.194968e+06   \n",
       "11  3.530563e+05    3.419134e+06          3.419134e+06          3.419134e+06   \n",
       "12  4.286105e+05    2.707632e+06          2.707632e+06          2.707632e+06   \n",
       "13  5.039584e+05    2.957704e+06          2.957704e+06          2.957704e+06   \n",
       "14  5.793062e+05    3.194968e+06          3.194968e+06          3.194968e+06   \n",
       "15  6.546540e+05    3.419134e+06          3.419134e+06          3.419134e+06   \n",
       "16  7.302083e+05    2.707632e+06          2.707632e+06          2.707632e+06   \n",
       "17  8.055561e+05    2.957704e+06          2.957704e+06          2.957704e+06   \n",
       "18  8.809039e+05    3.194968e+06          3.194968e+06          3.194968e+06   \n",
       "19  9.562518e+05    3.419134e+06          3.419134e+06          3.419134e+06   \n",
       "20  1.031806e+06    2.707632e+06          2.707632e+06          2.707632e+06   \n",
       "21  1.107154e+06    2.957704e+06          2.957704e+06          2.957704e+06   \n",
       "22  1.182502e+06    3.194968e+06          3.194968e+06          3.194968e+06   \n",
       "23  1.257849e+06    3.419134e+06          3.419134e+06          3.419134e+06   \n",
       "24  1.333404e+06    2.707632e+06          2.707632e+06          2.707632e+06   \n",
       "25  1.408752e+06    2.957704e+06          2.957704e+06          2.957704e+06   \n",
       "26  1.484099e+06    3.194968e+06          3.194968e+06          3.194968e+06   \n",
       "27  1.559447e+06    3.419134e+06          3.419134e+06          3.419134e+06   \n",
       "28  1.635001e+06    2.707632e+06          2.707632e+06          2.707632e+06   \n",
       "29  1.710349e+06    2.957704e+06          2.957704e+06          2.957704e+06   \n",
       "30  1.785697e+06    3.194968e+06          3.194968e+06          3.194968e+06   \n",
       "31  1.861045e+06    3.419134e+06          3.419134e+06          3.419134e+06   \n",
       "32  1.936599e+06    2.707632e+06          2.707632e+06          2.707632e+06   \n",
       "33  2.011947e+06    2.957704e+06          2.957704e+06          2.957704e+06   \n",
       "\n",
       "          yearly  yearly_lower  yearly_upper  multiplicative_terms  \\\n",
       "0   2.707632e+06  2.707632e+06  2.707632e+06                   0.0   \n",
       "1   2.957704e+06  2.957704e+06  2.957704e+06                   0.0   \n",
       "2   3.194968e+06  3.194968e+06  3.194968e+06                   0.0   \n",
       "3   3.419134e+06  3.419134e+06  3.419134e+06                   0.0   \n",
       "4   2.707632e+06  2.707632e+06  2.707632e+06                   0.0   \n",
       "5   2.957704e+06  2.957704e+06  2.957704e+06                   0.0   \n",
       "6   3.194968e+06  3.194968e+06  3.194968e+06                   0.0   \n",
       "7   3.419134e+06  3.419134e+06  3.419134e+06                   0.0   \n",
       "8   2.707632e+06  2.707632e+06  2.707632e+06                   0.0   \n",
       "9   2.957704e+06  2.957704e+06  2.957704e+06                   0.0   \n",
       "10  3.194968e+06  3.194968e+06  3.194968e+06                   0.0   \n",
       "11  3.419134e+06  3.419134e+06  3.419134e+06                   0.0   \n",
       "12  2.707632e+06  2.707632e+06  2.707632e+06                   0.0   \n",
       "13  2.957704e+06  2.957704e+06  2.957704e+06                   0.0   \n",
       "14  3.194968e+06  3.194968e+06  3.194968e+06                   0.0   \n",
       "15  3.419134e+06  3.419134e+06  3.419134e+06                   0.0   \n",
       "16  2.707632e+06  2.707632e+06  2.707632e+06                   0.0   \n",
       "17  2.957704e+06  2.957704e+06  2.957704e+06                   0.0   \n",
       "18  3.194968e+06  3.194968e+06  3.194968e+06                   0.0   \n",
       "19  3.419134e+06  3.419134e+06  3.419134e+06                   0.0   \n",
       "20  2.707632e+06  2.707632e+06  2.707632e+06                   0.0   \n",
       "21  2.957704e+06  2.957704e+06  2.957704e+06                   0.0   \n",
       "22  3.194968e+06  3.194968e+06  3.194968e+06                   0.0   \n",
       "23  3.419134e+06  3.419134e+06  3.419134e+06                   0.0   \n",
       "24  2.707632e+06  2.707632e+06  2.707632e+06                   0.0   \n",
       "25  2.957704e+06  2.957704e+06  2.957704e+06                   0.0   \n",
       "26  3.194968e+06  3.194968e+06  3.194968e+06                   0.0   \n",
       "27  3.419134e+06  3.419134e+06  3.419134e+06                   0.0   \n",
       "28  2.707632e+06  2.707632e+06  2.707632e+06                   0.0   \n",
       "29  2.957704e+06  2.957704e+06  2.957704e+06                   0.0   \n",
       "30  3.194968e+06  3.194968e+06  3.194968e+06                   0.0   \n",
       "31  3.419134e+06  3.419134e+06  3.419134e+06                   0.0   \n",
       "32  2.707632e+06  2.707632e+06  2.707632e+06                   0.0   \n",
       "33  2.957704e+06  2.957704e+06  2.957704e+06                   0.0   \n",
       "\n",
       "    multiplicative_terms_lower  multiplicative_terms_upper       yhat  \n",
       "0                          0.0                         0.0   9.625876  \n",
       "1                          0.0                         0.0   9.806182  \n",
       "2                          0.0                         0.0   9.961599  \n",
       "3                          0.0                         0.0  10.097342  \n",
       "4                          0.0                         0.0   9.793676  \n",
       "5                          0.0                         0.0   9.956377  \n",
       "6                          0.0                         0.0  10.098247  \n",
       "7                          0.0                         0.0  10.223260  \n",
       "8                          0.0                         0.0   9.945025  \n",
       "9                          0.0                         0.0  10.093458  \n",
       "10                         0.0                         0.0  10.224096  \n",
       "11                         0.0                         0.0  10.340057  \n",
       "12                         0.0                         0.0  10.083051  \n",
       "13                         0.0                         0.0  10.219670  \n",
       "14                         0.0                         0.0  10.340836  \n",
       "15                         0.0                         0.0  10.449050  \n",
       "16                         0.0                         0.0  10.210054  \n",
       "17                         0.0                         0.0  10.336717  \n",
       "18                         0.0                         0.0  10.449779  \n",
       "19                         0.0                         0.0  10.551283  \n",
       "20                         0.0                         0.0  10.327772  \n",
       "21                         0.0                         0.0  10.445925  \n",
       "22                         0.0                         0.0  10.551968  \n",
       "23                         0.0                         0.0  10.647601  \n",
       "24                         0.0                         0.0  10.437558  \n",
       "25                         0.0                         0.0  10.548345  \n",
       "26                         0.0                         0.0  10.648248  \n",
       "27                         0.0                         0.0  10.738697  \n",
       "28                         0.0                         0.0  10.540481  \n",
       "29                         0.0                         0.0  10.644828  \n",
       "30                         0.0                         0.0  10.739309  \n",
       "31                         0.0                         0.0  10.825144  \n",
       "32                         0.0                         0.0  10.637406  \n",
       "33                         0.0                         0.0  10.736069  "
      ]
     },
     "execution_count": 107,
     "metadata": {},
     "output_type": "execute_result"
    }
   ],
   "source": [
    "forecastFB"
   ]
  },
  {
   "cell_type": "code",
   "execution_count": 108,
   "metadata": {},
   "outputs": [
    {
     "data": {
      "text/html": [
       "<div>\n",
       "<style scoped>\n",
       "    .dataframe tbody tr th:only-of-type {\n",
       "        vertical-align: middle;\n",
       "    }\n",
       "\n",
       "    .dataframe tbody tr th {\n",
       "        vertical-align: top;\n",
       "    }\n",
       "\n",
       "    .dataframe thead th {\n",
       "        text-align: right;\n",
       "    }\n",
       "</style>\n",
       "<table border=\"1\" class=\"dataframe\">\n",
       "  <thead>\n",
       "    <tr style=\"text-align: right;\">\n",
       "      <th></th>\n",
       "      <th>AverageTemperature</th>\n",
       "    </tr>\n",
       "    <tr>\n",
       "      <th>dt</th>\n",
       "      <th></th>\n",
       "    </tr>\n",
       "  </thead>\n",
       "  <tbody>\n",
       "    <tr>\n",
       "      <th>2007-12-31</th>\n",
       "      <td>10.989940</td>\n",
       "    </tr>\n",
       "    <tr>\n",
       "      <th>2008-12-31</th>\n",
       "      <td>10.685179</td>\n",
       "    </tr>\n",
       "    <tr>\n",
       "      <th>2009-12-31</th>\n",
       "      <td>10.461537</td>\n",
       "    </tr>\n",
       "    <tr>\n",
       "      <th>2010-12-31</th>\n",
       "      <td>10.686661</td>\n",
       "    </tr>\n",
       "    <tr>\n",
       "      <th>2011-12-31</th>\n",
       "      <td>10.500732</td>\n",
       "    </tr>\n",
       "    <tr>\n",
       "      <th>2012-12-31</th>\n",
       "      <td>10.755588</td>\n",
       "    </tr>\n",
       "    <tr>\n",
       "      <th>2013-12-31</th>\n",
       "      <td>11.771115</td>\n",
       "    </tr>\n",
       "  </tbody>\n",
       "</table>\n",
       "</div>"
      ],
      "text/plain": [
       "            AverageTemperature\n",
       "dt                            \n",
       "2007-12-31           10.989940\n",
       "2008-12-31           10.685179\n",
       "2009-12-31           10.461537\n",
       "2010-12-31           10.686661\n",
       "2011-12-31           10.500732\n",
       "2012-12-31           10.755588\n",
       "2013-12-31           11.771115"
      ]
     },
     "execution_count": 108,
     "metadata": {},
     "output_type": "execute_result"
    }
   ],
   "source": [
    "testdf"
   ]
  },
  {
   "cell_type": "code",
   "execution_count": 109,
   "metadata": {},
   "outputs": [
    {
     "data": {
      "text/html": [
       "<div>\n",
       "<style scoped>\n",
       "    .dataframe tbody tr th:only-of-type {\n",
       "        vertical-align: middle;\n",
       "    }\n",
       "\n",
       "    .dataframe tbody tr th {\n",
       "        vertical-align: top;\n",
       "    }\n",
       "\n",
       "    .dataframe thead th {\n",
       "        text-align: right;\n",
       "    }\n",
       "</style>\n",
       "<table border=\"1\" class=\"dataframe\">\n",
       "  <thead>\n",
       "    <tr style=\"text-align: right;\">\n",
       "      <th></th>\n",
       "      <th>AverageTemperature</th>\n",
       "    </tr>\n",
       "    <tr>\n",
       "      <th>dt</th>\n",
       "      <th></th>\n",
       "    </tr>\n",
       "  </thead>\n",
       "  <tbody>\n",
       "    <tr>\n",
       "      <th>2007-12-31</th>\n",
       "      <td>10.989940</td>\n",
       "    </tr>\n",
       "    <tr>\n",
       "      <th>2008-12-31</th>\n",
       "      <td>10.685179</td>\n",
       "    </tr>\n",
       "    <tr>\n",
       "      <th>2009-12-31</th>\n",
       "      <td>10.461537</td>\n",
       "    </tr>\n",
       "    <tr>\n",
       "      <th>2010-12-31</th>\n",
       "      <td>10.686661</td>\n",
       "    </tr>\n",
       "    <tr>\n",
       "      <th>2011-12-31</th>\n",
       "      <td>10.500732</td>\n",
       "    </tr>\n",
       "    <tr>\n",
       "      <th>2012-12-31</th>\n",
       "      <td>10.755588</td>\n",
       "    </tr>\n",
       "    <tr>\n",
       "      <th>2013-12-31</th>\n",
       "      <td>11.771115</td>\n",
       "    </tr>\n",
       "  </tbody>\n",
       "</table>\n",
       "</div>"
      ],
      "text/plain": [
       "            AverageTemperature\n",
       "dt                            \n",
       "2007-12-31           10.989940\n",
       "2008-12-31           10.685179\n",
       "2009-12-31           10.461537\n",
       "2010-12-31           10.686661\n",
       "2011-12-31           10.500732\n",
       "2012-12-31           10.755588\n",
       "2013-12-31           11.771115"
      ]
     },
     "execution_count": 109,
     "metadata": {},
     "output_type": "execute_result"
    }
   ],
   "source": [
    "testdf"
   ]
  },
  {
   "cell_type": "code",
   "execution_count": 110,
   "metadata": {},
   "outputs": [],
   "source": [
    "y_pred = forecastFB['yhat'].values"
   ]
  },
  {
   "cell_type": "code",
   "execution_count": 111,
   "metadata": {},
   "outputs": [
    {
     "data": {
      "text/plain": [
       "array([10.73869663, 10.54048118, 10.64482751, 10.73930913, 10.82514425,\n",
       "       10.63740565, 10.7360686 ])"
      ]
     },
     "execution_count": 111,
     "metadata": {},
     "output_type": "execute_result"
    }
   ],
   "source": [
    "y_pred[27:34]"
   ]
  },
  {
   "cell_type": "code",
   "execution_count": 112,
   "metadata": {},
   "outputs": [
    {
     "name": "stdout",
     "output_type": "stream",
     "text": [
      "0.3013600429229807\n"
     ]
    }
   ],
   "source": [
    "print(mean_absolute_error(y_true=testdf,y_pred=y_pred[27:34]))"
   ]
  },
  {
   "cell_type": "code",
   "execution_count": 113,
   "metadata": {},
   "outputs": [
    {
     "name": "stderr",
     "output_type": "stream",
     "text": [
      "INFO:fbprophet:Making 45 forecasts with cutoffs between 1984-01-06 00:00:00 and 2005-12-31 00:00:00\n"
     ]
    },
    {
     "data": {
      "application/vnd.jupyter.widget-view+json": {
       "model_id": "9e0327192f794f9eb103d00bc146aac5",
       "version_major": 2,
       "version_minor": 0
      },
      "text/plain": [
       "  0%|          | 0/45 [00:00<?, ?it/s]"
      ]
     },
     "metadata": {},
     "output_type": "display_data"
    },
    {
     "name": "stderr",
     "output_type": "stream",
     "text": [
      "INFO:fbprophet:n_changepoints greater than number of observations. Using 2.\n",
      "INFO:fbprophet:n_changepoints greater than number of observations. Using 2.\n",
      "INFO:fbprophet:n_changepoints greater than number of observations. Using 3.\n",
      "INFO:fbprophet:n_changepoints greater than number of observations. Using 3.\n",
      "INFO:fbprophet:n_changepoints greater than number of observations. Using 3.\n",
      "INFO:fbprophet:n_changepoints greater than number of observations. Using 3.\n",
      "INFO:fbprophet:n_changepoints greater than number of observations. Using 4.\n",
      "INFO:fbprophet:n_changepoints greater than number of observations. Using 4.\n",
      "INFO:fbprophet:n_changepoints greater than number of observations. Using 5.\n",
      "INFO:fbprophet:n_changepoints greater than number of observations. Using 5.\n",
      "INFO:fbprophet:n_changepoints greater than number of observations. Using 6.\n",
      "INFO:fbprophet:n_changepoints greater than number of observations. Using 6.\n",
      "INFO:fbprophet:n_changepoints greater than number of observations. Using 7.\n",
      "INFO:fbprophet:n_changepoints greater than number of observations. Using 7.\n",
      "INFO:fbprophet:n_changepoints greater than number of observations. Using 7.\n",
      "INFO:fbprophet:n_changepoints greater than number of observations. Using 7.\n",
      "INFO:fbprophet:n_changepoints greater than number of observations. Using 8.\n",
      "INFO:fbprophet:n_changepoints greater than number of observations. Using 8.\n",
      "INFO:fbprophet:n_changepoints greater than number of observations. Using 9.\n",
      "INFO:fbprophet:n_changepoints greater than number of observations. Using 9.\n",
      "INFO:fbprophet:n_changepoints greater than number of observations. Using 10.\n",
      "INFO:fbprophet:n_changepoints greater than number of observations. Using 10.\n",
      "INFO:fbprophet:n_changepoints greater than number of observations. Using 11.\n",
      "INFO:fbprophet:n_changepoints greater than number of observations. Using 11.\n",
      "INFO:fbprophet:n_changepoints greater than number of observations. Using 11.\n",
      "INFO:fbprophet:n_changepoints greater than number of observations. Using 11.\n",
      "INFO:fbprophet:n_changepoints greater than number of observations. Using 12.\n",
      "INFO:fbprophet:n_changepoints greater than number of observations. Using 12.\n",
      "INFO:fbprophet:n_changepoints greater than number of observations. Using 13.\n",
      "INFO:fbprophet:n_changepoints greater than number of observations. Using 13.\n",
      "INFO:fbprophet:n_changepoints greater than number of observations. Using 14.\n",
      "INFO:fbprophet:n_changepoints greater than number of observations. Using 14.\n",
      "INFO:fbprophet:n_changepoints greater than number of observations. Using 15.\n",
      "INFO:fbprophet:n_changepoints greater than number of observations. Using 15.\n",
      "INFO:fbprophet:n_changepoints greater than number of observations. Using 15.\n",
      "INFO:fbprophet:n_changepoints greater than number of observations. Using 15.\n",
      "INFO:fbprophet:n_changepoints greater than number of observations. Using 16.\n",
      "INFO:fbprophet:n_changepoints greater than number of observations. Using 16.\n",
      "INFO:fbprophet:n_changepoints greater than number of observations. Using 17.\n",
      "INFO:fbprophet:n_changepoints greater than number of observations. Using 17.\n",
      "INFO:fbprophet:n_changepoints greater than number of observations. Using 18.\n",
      "INFO:fbprophet:n_changepoints greater than number of observations. Using 18.\n",
      "INFO:fbprophet:n_changepoints greater than number of observations. Using 19.\n",
      "INFO:fbprophet:n_changepoints greater than number of observations. Using 19.\n",
      "INFO:fbprophet:n_changepoints greater than number of observations. Using 19.\n"
     ]
    },
    {
     "data": {
      "text/html": [
       "<div>\n",
       "<style scoped>\n",
       "    .dataframe tbody tr th:only-of-type {\n",
       "        vertical-align: middle;\n",
       "    }\n",
       "\n",
       "    .dataframe tbody tr th {\n",
       "        vertical-align: top;\n",
       "    }\n",
       "\n",
       "    .dataframe thead th {\n",
       "        text-align: right;\n",
       "    }\n",
       "</style>\n",
       "<table border=\"1\" class=\"dataframe\">\n",
       "  <thead>\n",
       "    <tr style=\"text-align: right;\">\n",
       "      <th></th>\n",
       "      <th>ds</th>\n",
       "      <th>yhat</th>\n",
       "      <th>yhat_lower</th>\n",
       "      <th>yhat_upper</th>\n",
       "      <th>y</th>\n",
       "      <th>cutoff</th>\n",
       "    </tr>\n",
       "  </thead>\n",
       "  <tbody>\n",
       "    <tr>\n",
       "      <th>0</th>\n",
       "      <td>1984-12-31</td>\n",
       "      <td>3.508604e+06</td>\n",
       "      <td>2.826466e+06</td>\n",
       "      <td>4.249538e+06</td>\n",
       "      <td>2.405518e+06</td>\n",
       "      <td>1984-01-06 00:00:00</td>\n",
       "    </tr>\n",
       "    <tr>\n",
       "      <th>1</th>\n",
       "      <td>1984-12-31</td>\n",
       "      <td>3.508604e+06</td>\n",
       "      <td>2.812159e+06</td>\n",
       "      <td>4.242148e+06</td>\n",
       "      <td>2.405518e+06</td>\n",
       "      <td>1984-07-06 12:00:00</td>\n",
       "    </tr>\n",
       "    <tr>\n",
       "      <th>2</th>\n",
       "      <td>1985-12-31</td>\n",
       "      <td>2.658018e+06</td>\n",
       "      <td>2.020608e+06</td>\n",
       "      <td>3.323250e+06</td>\n",
       "      <td>1.972606e+06</td>\n",
       "      <td>1985-01-05 00:00:00</td>\n",
       "    </tr>\n",
       "    <tr>\n",
       "      <th>3</th>\n",
       "      <td>1985-12-31</td>\n",
       "      <td>2.658018e+06</td>\n",
       "      <td>1.995543e+06</td>\n",
       "      <td>3.280955e+06</td>\n",
       "      <td>1.972606e+06</td>\n",
       "      <td>1985-07-06 12:00:00</td>\n",
       "    </tr>\n",
       "    <tr>\n",
       "      <th>4</th>\n",
       "      <td>1986-12-31</td>\n",
       "      <td>2.460765e+06</td>\n",
       "      <td>1.833896e+06</td>\n",
       "      <td>3.105076e+06</td>\n",
       "      <td>2.771477e+06</td>\n",
       "      <td>1986-01-05 00:00:00</td>\n",
       "    </tr>\n",
       "  </tbody>\n",
       "</table>\n",
       "</div>"
      ],
      "text/plain": [
       "          ds          yhat    yhat_lower    yhat_upper             y  \\\n",
       "0 1984-12-31  3.508604e+06  2.826466e+06  4.249538e+06  2.405518e+06   \n",
       "1 1984-12-31  3.508604e+06  2.812159e+06  4.242148e+06  2.405518e+06   \n",
       "2 1985-12-31  2.658018e+06  2.020608e+06  3.323250e+06  1.972606e+06   \n",
       "3 1985-12-31  2.658018e+06  1.995543e+06  3.280955e+06  1.972606e+06   \n",
       "4 1986-12-31  2.460765e+06  1.833896e+06  3.105076e+06  2.771477e+06   \n",
       "\n",
       "               cutoff  \n",
       "0 1984-01-06 00:00:00  \n",
       "1 1984-07-06 12:00:00  \n",
       "2 1985-01-05 00:00:00  \n",
       "3 1985-07-06 12:00:00  \n",
       "4 1986-01-05 00:00:00  "
      ]
     },
     "execution_count": 113,
     "metadata": {},
     "output_type": "execute_result"
    }
   ],
   "source": [
    "from fbprophet.diagnostics import cross_validation\n",
    "df_cv = cross_validation(m, horizon = '365 days')\n",
    "df_cv.head()"
   ]
  },
  {
   "cell_type": "code",
   "execution_count": 114,
   "metadata": {},
   "outputs": [
    {
     "data": {
      "text/html": [
       "<div>\n",
       "<style scoped>\n",
       "    .dataframe tbody tr th:only-of-type {\n",
       "        vertical-align: middle;\n",
       "    }\n",
       "\n",
       "    .dataframe tbody tr th {\n",
       "        vertical-align: top;\n",
       "    }\n",
       "\n",
       "    .dataframe thead th {\n",
       "        text-align: right;\n",
       "    }\n",
       "</style>\n",
       "<table border=\"1\" class=\"dataframe\">\n",
       "  <thead>\n",
       "    <tr style=\"text-align: right;\">\n",
       "      <th></th>\n",
       "      <th>horizon</th>\n",
       "      <th>mse</th>\n",
       "      <th>rmse</th>\n",
       "      <th>mae</th>\n",
       "      <th>mape</th>\n",
       "      <th>mdape</th>\n",
       "      <th>coverage</th>\n",
       "    </tr>\n",
       "  </thead>\n",
       "  <tbody>\n",
       "    <tr>\n",
       "      <th>0</th>\n",
       "      <td>177 days 12:00:00</td>\n",
       "      <td>4.896603e+11</td>\n",
       "      <td>6.997573e+05</td>\n",
       "      <td>6.295378e+05</td>\n",
       "      <td>0.273023</td>\n",
       "      <td>0.260708</td>\n",
       "      <td>0.50</td>\n",
       "    </tr>\n",
       "    <tr>\n",
       "      <th>1</th>\n",
       "      <td>178 days 12:00:00</td>\n",
       "      <td>1.654856e+12</td>\n",
       "      <td>1.286412e+06</td>\n",
       "      <td>1.138419e+06</td>\n",
       "      <td>0.306314</td>\n",
       "      <td>0.300883</td>\n",
       "      <td>0.25</td>\n",
       "    </tr>\n",
       "    <tr>\n",
       "      <th>2</th>\n",
       "      <td>179 days 12:00:00</td>\n",
       "      <td>7.460217e+11</td>\n",
       "      <td>8.637255e+05</td>\n",
       "      <td>8.090935e+05</td>\n",
       "      <td>0.256790</td>\n",
       "      <td>0.249442</td>\n",
       "      <td>0.50</td>\n",
       "    </tr>\n",
       "    <tr>\n",
       "      <th>3</th>\n",
       "      <td>180 days 12:00:00</td>\n",
       "      <td>3.662957e+11</td>\n",
       "      <td>6.052237e+05</td>\n",
       "      <td>5.574773e+05</td>\n",
       "      <td>0.154271</td>\n",
       "      <td>0.151831</td>\n",
       "      <td>0.75</td>\n",
       "    </tr>\n",
       "    <tr>\n",
       "      <th>4</th>\n",
       "      <td>181 days 12:00:00</td>\n",
       "      <td>3.460984e+11</td>\n",
       "      <td>5.883013e+05</td>\n",
       "      <td>5.704415e+05</td>\n",
       "      <td>0.135857</td>\n",
       "      <td>0.146520</td>\n",
       "      <td>1.00</td>\n",
       "    </tr>\n",
       "  </tbody>\n",
       "</table>\n",
       "</div>"
      ],
      "text/plain": [
       "            horizon           mse          rmse           mae      mape  \\\n",
       "0 177 days 12:00:00  4.896603e+11  6.997573e+05  6.295378e+05  0.273023   \n",
       "1 178 days 12:00:00  1.654856e+12  1.286412e+06  1.138419e+06  0.306314   \n",
       "2 179 days 12:00:00  7.460217e+11  8.637255e+05  8.090935e+05  0.256790   \n",
       "3 180 days 12:00:00  3.662957e+11  6.052237e+05  5.574773e+05  0.154271   \n",
       "4 181 days 12:00:00  3.460984e+11  5.883013e+05  5.704415e+05  0.135857   \n",
       "\n",
       "      mdape  coverage  \n",
       "0  0.260708      0.50  \n",
       "1  0.300883      0.25  \n",
       "2  0.249442      0.50  \n",
       "3  0.151831      0.75  \n",
       "4  0.146520      1.00  "
      ]
     },
     "execution_count": 114,
     "metadata": {},
     "output_type": "execute_result"
    }
   ],
   "source": [
    "from fbprophet.diagnostics import performance_metrics\n",
    "df_p = performance_metrics(df_cv)\n",
    "df_p.head()"
   ]
  },
  {
   "cell_type": "code",
   "execution_count": null,
   "metadata": {},
   "outputs": [],
   "source": []
  },
  {
   "cell_type": "markdown",
   "metadata": {},
   "source": [
    "### Using Prophet procedure we have MSE = 0.3"
   ]
  },
  {
   "cell_type": "markdown",
   "metadata": {},
   "source": [
    "# Better model amog all four above is model3 SARIMAX with p,d,q = (3,1,1) we get MSE = 0.231 and AIC = 28.684"
   ]
  },
  {
   "cell_type": "code",
   "execution_count": 115,
   "metadata": {},
   "outputs": [],
   "source": [
    "import pickle\n",
    "with open('modelSari.pckl', 'wb') as fout:\n",
    "    pickle.dump(model_sari, fout)\n",
    "with open('modelSari.pckl', 'rb') as fin:\n",
    "    m2 = pickle.load(fin)"
   ]
  },
  {
   "cell_type": "code",
   "execution_count": 116,
   "metadata": {},
   "outputs": [
    {
     "ename": "ModuleNotFoundError",
     "evalue": "No module named 'flask_cors'",
     "output_type": "error",
     "traceback": [
      "\u001b[1;31m---------------------------------------------------------------------------\u001b[0m",
      "\u001b[1;31mModuleNotFoundError\u001b[0m                       Traceback (most recent call last)",
      "\u001b[1;32m<ipython-input-116-fd54fa308a45>\u001b[0m in \u001b[0;36m<module>\u001b[1;34m\u001b[0m\n\u001b[0;32m      1\u001b[0m \u001b[1;32mfrom\u001b[0m \u001b[0mflask\u001b[0m \u001b[1;32mimport\u001b[0m \u001b[0mFlask\u001b[0m\u001b[1;33m,\u001b[0m \u001b[0mjsonify\u001b[0m\u001b[1;33m,\u001b[0m \u001b[0mrequest\u001b[0m\u001b[1;33m\u001b[0m\u001b[1;33m\u001b[0m\u001b[0m\n\u001b[1;32m----> 2\u001b[1;33m \u001b[1;32mfrom\u001b[0m \u001b[0mflask_cors\u001b[0m \u001b[1;32mimport\u001b[0m \u001b[0mCORS\u001b[0m\u001b[1;33m,\u001b[0m \u001b[0mcross_origin\u001b[0m\u001b[1;33m\u001b[0m\u001b[1;33m\u001b[0m\u001b[0m\n\u001b[0m",
      "\u001b[1;31mModuleNotFoundError\u001b[0m: No module named 'flask_cors'"
     ]
    }
   ],
   "source": [
    "from flask import Flask, jsonify, request\n",
    "from flask_cors import CORS, cross_origin"
   ]
  },
  {
   "cell_type": "code",
   "execution_count": null,
   "metadata": {},
   "outputs": [],
   "source": [
    "!pip install flask-cors\n"
   ]
  },
  {
   "cell_type": "code",
   "execution_count": null,
   "metadata": {},
   "outputs": [],
   "source": []
  }
 ],
 "metadata": {
  "kernelspec": {
   "display_name": "Python 3",
   "language": "python",
   "name": "python3"
  },
  "language_info": {
   "codemirror_mode": {
    "name": "ipython",
    "version": 3
   },
   "file_extension": ".py",
   "mimetype": "text/x-python",
   "name": "python",
   "nbconvert_exporter": "python",
   "pygments_lexer": "ipython3",
   "version": "3.8.10"
  }
 },
 "nbformat": 4,
 "nbformat_minor": 4
}
